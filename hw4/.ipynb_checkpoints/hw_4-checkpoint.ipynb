{
 "cells": [
  {
   "cell_type": "markdown",
   "metadata": {},
   "source": [
    "### Упражнение 1\n",
    "* Реализуйте функцию `get_geodesic_distance`, рассчитывающее геодезическое расстояние между двумя точками в километрах."
   ]
  },
  {
   "cell_type": "code",
   "execution_count": 1,
   "metadata": {
    "ExecuteTime": {
     "end_time": "2021-04-15T21:28:31.349095Z",
     "start_time": "2021-04-15T21:28:30.847251Z"
    },
    "scrolled": true
   },
   "outputs": [],
   "source": [
    "from geopy.distance import geodesic\n",
    "from shapely.geometry import Point\n",
    "import numpy as np\n",
    "\n",
    "mipt = Point(55.9297243, 37.5199434)\n",
    "kremlin = Point(55.752023, 37.6174994)"
   ]
  },
  {
   "cell_type": "markdown",
   "metadata": {},
   "source": [
    "Вариант 1\n",
    "\n",
    "Самый простой вариант - используем готовую функцию"
   ]
  },
  {
   "cell_type": "code",
   "execution_count": 2,
   "metadata": {
    "ExecuteTime": {
     "end_time": "2021-04-15T21:28:31.365090Z",
     "start_time": "2021-04-15T21:28:31.351080Z"
    }
   },
   "outputs": [
    {
     "data": {
      "text/plain": [
       "20.70755124016457"
      ]
     },
     "execution_count": 2,
     "metadata": {},
     "output_type": "execute_result"
    }
   ],
   "source": [
    "def get_geodesic_distance_simple(point1, point2):\n",
    "    return geodesic((point1.x, point1.y), (point2.x, point2.y)).km\n",
    "get_geodesic_distance_simple(mipt, kremlin)"
   ]
  },
  {
   "cell_type": "markdown",
   "metadata": {},
   "source": [
    "Вариант 2\n",
    "\n",
    "Рассчитываем по формулам сферической тригонометрии в предположении, что Земля - шар"
   ]
  },
  {
   "cell_type": "code",
   "execution_count": 3,
   "metadata": {
    "ExecuteTime": {
     "end_time": "2021-04-15T21:28:31.507734Z",
     "start_time": "2021-04-15T21:28:31.499747Z"
    }
   },
   "outputs": [],
   "source": [
    "def get_geodesic_distance(point1, point2, earth_radius = 6372795):\n",
    "    \"\"\"\n",
    "    Возвращает геодезическое расстояние между объектами в предположении шарообразоности Земли.\n",
    "    :param point1: координаты первой точки в виде shapely.geometry.Point\n",
    "    :param point1: координаты первой точки в виде shapely.geometry.Point\n",
    "    :param earth_radius: средний радиус Земли\n",
    "    \n",
    "    :return: геодезическое расстояние между точками в километрах\n",
    "    \"\"\"\n",
    "    #  Получаем из исходных точек широты phi и долготы lambda\n",
    "    phi1 = point1.x * np.pi / 180.0\n",
    "    lambda1 = point1.y * np.pi / 180.0\n",
    "    phi2 = point2.x * np.pi / 180.0\n",
    "    lambda2 = point2.y * np.pi / 180.0\n",
    "    # Рассчитываем вспомогательные величины\n",
    "    delta_1 = np.sin(phi1) * np.sin(phi2) + np.cos(phi1) * np.cos(phi2) * np.cos(lambda1 - lambda2)\n",
    "    delta_2 = np.sqrt(np.power(np.cos(phi2) * np.sin(lambda1 - lambda2), 2) + (\n",
    "        np.power(np.cos(phi1) * np.sin(phi2) - np.sin(phi1) * np.cos(phi2) * np.cos(lambda1 - lambda2), 2)))\n",
    "    return np.arctan(delta_2 / delta_1) * earth_radius / 1000"
   ]
  },
  {
   "cell_type": "code",
   "execution_count": 4,
   "metadata": {
    "ExecuteTime": {
     "end_time": "2021-04-15T21:28:31.649753Z",
     "start_time": "2021-04-15T21:28:31.635733Z"
    }
   },
   "outputs": [
    {
     "data": {
      "text/plain": [
       "20.682777632077542"
      ]
     },
     "execution_count": 4,
     "metadata": {},
     "output_type": "execute_result"
    }
   ],
   "source": [
    "get_geodesic_distance(mipt, kremlin)"
   ]
  },
  {
   "cell_type": "markdown",
   "metadata": {},
   "source": [
    "### Упражнение 2"
   ]
  },
  {
   "cell_type": "markdown",
   "metadata": {},
   "source": [
    "* Реализуйте функцию `get_k_nearest_neighbours_by_dist`, осуществляющую поиск `k` ближайших соседей полигона из заданного списка на основе геодезического расстояния. Добавьте две возможности учета расстояния: через ближайшие точки на границах полигонов и через центроиды полигонов."
   ]
  },
  {
   "cell_type": "code",
   "execution_count": 5,
   "metadata": {
    "ExecuteTime": {
     "end_time": "2021-04-15T21:28:34.989796Z",
     "start_time": "2021-04-15T21:28:33.939591Z"
    }
   },
   "outputs": [],
   "source": [
    "import geopandas as gpd\n",
    "import matplotlib.pyplot as plt\n",
    "import random\n",
    "from shapely.ops import nearest_points\n",
    "%matplotlib inline\n",
    "\n",
    "big_moscow_districts = gpd.read_file('../data/big_moscow_districts.shp')\n",
    "polygon = random.sample(big_moscow_districts['geometry'].tolist(), 1)[0]\n",
    "polygons = random.sample(big_moscow_districts['geometry'].tolist(), 50)"
   ]
  },
  {
   "cell_type": "code",
   "execution_count": 6,
   "metadata": {
    "ExecuteTime": {
     "end_time": "2021-04-15T21:28:36.069142Z",
     "start_time": "2021-04-15T21:28:36.060127Z"
    }
   },
   "outputs": [],
   "source": [
    "def get_k_nearest_neighbours_by_dist(polygon, polygons, k, kind):\n",
    "    # Проверяем, что k не больше, чем количество полигонов\n",
    "    k = len(polygons) if k > len(polygons) else k\n",
    "    # Проверяем, что в списке полигонов нет исследуемого полигона\n",
    "    if polygon in polygons:\n",
    "        polygons.remove(polygon)\n",
    "    \n",
    "#     # Расчёт через центроиды полигонов\n",
    "#     if kind == 'by_centroid':\n",
    "#         # Сортируем полигоны по геодезическому расстоянию между центроидами\n",
    "#         polygons.sort(key=lambda polygon_: get_geodesic_distance(polygon.centroid, polygon_.centroid))\n",
    "#     # Расчёт через ближайшие точки на границах полигонов\n",
    "#     if kind == 'by_board':\n",
    "#         polygons.sort(key=lambda polygon_: get_geodesic_distance(*nearest_points(polygon, polygon_)))\n",
    "    \n",
    "    # Создаём датафрейм с полигонами и расстояниями\n",
    "    polygons_df = gpd.GeoDataFrame()\n",
    "    # Записываем в датафрейм полигоны\n",
    "    polygons_df[\"geometry\"] = polygons\n",
    "    # Записываем в датафрейм расстояния между исследуемым полигоном и другими полигонами\n",
    "    polygons_df[\"Distance by board\"] = polygons_df[\"geometry\"].apply(\n",
    "        lambda polygon_: get_geodesic_distance(*nearest_points(polygon, polygon_)))\n",
    "    polygons_df[\"Distance by centroid\"] = polygons_df[\"geometry\"].apply(\n",
    "        lambda polygon_: get_geodesic_distance(polygon.centroid, polygon_.centroid))   \n",
    "    # Сортируем полигоны в соответствии с заданным критерием\n",
    "    if kind == 'by_centroid':\n",
    "        return polygons_df.sort_values(by=\"Distance by centroid\", ignore_index=True).loc[:k-1]\n",
    "    if kind == 'by_board':\n",
    "        return polygons_df.sort_values(by=\"Distance by board\", ignore_index=True).loc[:k-1]\n",
    "    else:\n",
    "        print(\"Неверный критерий сортировки\")\n",
    "        return polygons_df"
   ]
  },
  {
   "cell_type": "code",
   "execution_count": 7,
   "metadata": {
    "ExecuteTime": {
     "end_time": "2021-04-15T21:28:36.337695Z",
     "start_time": "2021-04-15T21:28:36.262712Z"
    }
   },
   "outputs": [
    {
     "data": {
      "text/html": [
       "<div>\n",
       "<style scoped>\n",
       "    .dataframe tbody tr th:only-of-type {\n",
       "        vertical-align: middle;\n",
       "    }\n",
       "\n",
       "    .dataframe tbody tr th {\n",
       "        vertical-align: top;\n",
       "    }\n",
       "\n",
       "    .dataframe thead th {\n",
       "        text-align: right;\n",
       "    }\n",
       "</style>\n",
       "<table border=\"1\" class=\"dataframe\">\n",
       "  <thead>\n",
       "    <tr style=\"text-align: right;\">\n",
       "      <th></th>\n",
       "      <th>geometry</th>\n",
       "      <th>Distance by board</th>\n",
       "      <th>Distance by centroid</th>\n",
       "    </tr>\n",
       "  </thead>\n",
       "  <tbody>\n",
       "    <tr>\n",
       "      <th>0</th>\n",
       "      <td>POLYGON ((37.80870 55.76024, 37.80866 55.76015...</td>\n",
       "      <td>0.000000</td>\n",
       "      <td>6.500578</td>\n",
       "    </tr>\n",
       "    <tr>\n",
       "      <th>1</th>\n",
       "      <td>POLYGON ((37.90701 55.70699, 37.90623 55.70699...</td>\n",
       "      <td>1.572142</td>\n",
       "      <td>8.192713</td>\n",
       "    </tr>\n",
       "    <tr>\n",
       "      <th>2</th>\n",
       "      <td>POLYGON ((37.77741 55.85644, 37.78261 55.85377...</td>\n",
       "      <td>1.922181</td>\n",
       "      <td>5.587733</td>\n",
       "    </tr>\n",
       "    <tr>\n",
       "      <th>3</th>\n",
       "      <td>POLYGON ((37.76713 55.73436, 37.76730 55.73427...</td>\n",
       "      <td>4.384211</td>\n",
       "      <td>11.806523</td>\n",
       "    </tr>\n",
       "    <tr>\n",
       "      <th>4</th>\n",
       "      <td>POLYGON ((37.74627 55.80043, 37.74627 55.79895...</td>\n",
       "      <td>6.038785</td>\n",
       "      <td>11.527609</td>\n",
       "    </tr>\n",
       "    <tr>\n",
       "      <th>5</th>\n",
       "      <td>POLYGON ((37.71333 55.77548, 37.71352 55.77526...</td>\n",
       "      <td>9.693368</td>\n",
       "      <td>17.043478</td>\n",
       "    </tr>\n",
       "    <tr>\n",
       "      <th>6</th>\n",
       "      <td>POLYGON ((37.79356 55.62296, 37.79213 55.62217...</td>\n",
       "      <td>9.911205</td>\n",
       "      <td>13.786545</td>\n",
       "    </tr>\n",
       "    <tr>\n",
       "      <th>7</th>\n",
       "      <td>POLYGON ((37.69984 55.73632, 37.69929 55.73638...</td>\n",
       "      <td>11.352406</td>\n",
       "      <td>17.692477</td>\n",
       "    </tr>\n",
       "    <tr>\n",
       "      <th>8</th>\n",
       "      <td>POLYGON ((37.78505 55.61682, 37.78475 55.61683...</td>\n",
       "      <td>12.382599</td>\n",
       "      <td>17.831579</td>\n",
       "    </tr>\n",
       "    <tr>\n",
       "      <th>9</th>\n",
       "      <td>POLYGON ((37.67152 55.82820, 37.67149 55.82755...</td>\n",
       "      <td>14.698637</td>\n",
       "      <td>19.834628</td>\n",
       "    </tr>\n",
       "  </tbody>\n",
       "</table>\n",
       "</div>"
      ],
      "text/plain": [
       "                                            geometry  Distance by board  \\\n",
       "0  POLYGON ((37.80870 55.76024, 37.80866 55.76015...           0.000000   \n",
       "1  POLYGON ((37.90701 55.70699, 37.90623 55.70699...           1.572142   \n",
       "2  POLYGON ((37.77741 55.85644, 37.78261 55.85377...           1.922181   \n",
       "3  POLYGON ((37.76713 55.73436, 37.76730 55.73427...           4.384211   \n",
       "4  POLYGON ((37.74627 55.80043, 37.74627 55.79895...           6.038785   \n",
       "5  POLYGON ((37.71333 55.77548, 37.71352 55.77526...           9.693368   \n",
       "6  POLYGON ((37.79356 55.62296, 37.79213 55.62217...           9.911205   \n",
       "7  POLYGON ((37.69984 55.73632, 37.69929 55.73638...          11.352406   \n",
       "8  POLYGON ((37.78505 55.61682, 37.78475 55.61683...          12.382599   \n",
       "9  POLYGON ((37.67152 55.82820, 37.67149 55.82755...          14.698637   \n",
       "\n",
       "   Distance by centroid  \n",
       "0              6.500578  \n",
       "1              8.192713  \n",
       "2              5.587733  \n",
       "3             11.806523  \n",
       "4             11.527609  \n",
       "5             17.043478  \n",
       "6             13.786545  \n",
       "7             17.692477  \n",
       "8             17.831579  \n",
       "9             19.834628  "
      ]
     },
     "execution_count": 7,
     "metadata": {},
     "output_type": "execute_result"
    }
   ],
   "source": [
    "k_nearest_neighbours_by_board = get_k_nearest_neighbours_by_dist(polygon, polygons, k=10, kind='by_board')\n",
    "k_nearest_neighbours_by_board"
   ]
  },
  {
   "cell_type": "code",
   "execution_count": 8,
   "metadata": {
    "ExecuteTime": {
     "end_time": "2021-04-15T21:28:38.700252Z",
     "start_time": "2021-04-15T21:28:38.630239Z"
    }
   },
   "outputs": [
    {
     "data": {
      "text/html": [
       "<div>\n",
       "<style scoped>\n",
       "    .dataframe tbody tr th:only-of-type {\n",
       "        vertical-align: middle;\n",
       "    }\n",
       "\n",
       "    .dataframe tbody tr th {\n",
       "        vertical-align: top;\n",
       "    }\n",
       "\n",
       "    .dataframe thead th {\n",
       "        text-align: right;\n",
       "    }\n",
       "</style>\n",
       "<table border=\"1\" class=\"dataframe\">\n",
       "  <thead>\n",
       "    <tr style=\"text-align: right;\">\n",
       "      <th></th>\n",
       "      <th>geometry</th>\n",
       "      <th>Distance by board</th>\n",
       "      <th>Distance by centroid</th>\n",
       "    </tr>\n",
       "  </thead>\n",
       "  <tbody>\n",
       "    <tr>\n",
       "      <th>0</th>\n",
       "      <td>POLYGON ((37.77741 55.85644, 37.78261 55.85377...</td>\n",
       "      <td>1.922181</td>\n",
       "      <td>5.587733</td>\n",
       "    </tr>\n",
       "    <tr>\n",
       "      <th>1</th>\n",
       "      <td>POLYGON ((37.80870 55.76024, 37.80866 55.76015...</td>\n",
       "      <td>0.000000</td>\n",
       "      <td>6.500578</td>\n",
       "    </tr>\n",
       "    <tr>\n",
       "      <th>2</th>\n",
       "      <td>POLYGON ((37.90701 55.70699, 37.90623 55.70699...</td>\n",
       "      <td>1.572142</td>\n",
       "      <td>8.192713</td>\n",
       "    </tr>\n",
       "    <tr>\n",
       "      <th>3</th>\n",
       "      <td>POLYGON ((37.74627 55.80043, 37.74627 55.79895...</td>\n",
       "      <td>6.038785</td>\n",
       "      <td>11.527609</td>\n",
       "    </tr>\n",
       "    <tr>\n",
       "      <th>4</th>\n",
       "      <td>POLYGON ((37.76713 55.73436, 37.76730 55.73427...</td>\n",
       "      <td>4.384211</td>\n",
       "      <td>11.806523</td>\n",
       "    </tr>\n",
       "    <tr>\n",
       "      <th>5</th>\n",
       "      <td>POLYGON ((37.79356 55.62296, 37.79213 55.62217...</td>\n",
       "      <td>9.911205</td>\n",
       "      <td>13.786545</td>\n",
       "    </tr>\n",
       "    <tr>\n",
       "      <th>6</th>\n",
       "      <td>POLYGON ((37.71333 55.77548, 37.71352 55.77526...</td>\n",
       "      <td>9.693368</td>\n",
       "      <td>17.043478</td>\n",
       "    </tr>\n",
       "    <tr>\n",
       "      <th>7</th>\n",
       "      <td>POLYGON ((37.69984 55.73632, 37.69929 55.73638...</td>\n",
       "      <td>11.352406</td>\n",
       "      <td>17.692477</td>\n",
       "    </tr>\n",
       "    <tr>\n",
       "      <th>8</th>\n",
       "      <td>POLYGON ((37.78505 55.61682, 37.78475 55.61683...</td>\n",
       "      <td>12.382599</td>\n",
       "      <td>17.831579</td>\n",
       "    </tr>\n",
       "    <tr>\n",
       "      <th>9</th>\n",
       "      <td>POLYGON ((37.67152 55.82820, 37.67149 55.82755...</td>\n",
       "      <td>14.698637</td>\n",
       "      <td>19.834628</td>\n",
       "    </tr>\n",
       "  </tbody>\n",
       "</table>\n",
       "</div>"
      ],
      "text/plain": [
       "                                            geometry  Distance by board  \\\n",
       "0  POLYGON ((37.77741 55.85644, 37.78261 55.85377...           1.922181   \n",
       "1  POLYGON ((37.80870 55.76024, 37.80866 55.76015...           0.000000   \n",
       "2  POLYGON ((37.90701 55.70699, 37.90623 55.70699...           1.572142   \n",
       "3  POLYGON ((37.74627 55.80043, 37.74627 55.79895...           6.038785   \n",
       "4  POLYGON ((37.76713 55.73436, 37.76730 55.73427...           4.384211   \n",
       "5  POLYGON ((37.79356 55.62296, 37.79213 55.62217...           9.911205   \n",
       "6  POLYGON ((37.71333 55.77548, 37.71352 55.77526...           9.693368   \n",
       "7  POLYGON ((37.69984 55.73632, 37.69929 55.73638...          11.352406   \n",
       "8  POLYGON ((37.78505 55.61682, 37.78475 55.61683...          12.382599   \n",
       "9  POLYGON ((37.67152 55.82820, 37.67149 55.82755...          14.698637   \n",
       "\n",
       "   Distance by centroid  \n",
       "0              5.587733  \n",
       "1              6.500578  \n",
       "2              8.192713  \n",
       "3             11.527609  \n",
       "4             11.806523  \n",
       "5             13.786545  \n",
       "6             17.043478  \n",
       "7             17.692477  \n",
       "8             17.831579  \n",
       "9             19.834628  "
      ]
     },
     "execution_count": 8,
     "metadata": {},
     "output_type": "execute_result"
    }
   ],
   "source": [
    "k_nearest_neighbours_by_centroid = get_k_nearest_neighbours_by_dist(polygon, polygons, k=10, kind='by_centroid')\n",
    "k_nearest_neighbours_by_centroid"
   ]
  },
  {
   "cell_type": "markdown",
   "metadata": {},
   "source": [
    "Отобразим результат. \n",
    "\n",
    "Зелёный - исследуемый полигон, красный - ближайшие полигоны, жёлтый - остальные полигоны из списка."
   ]
  },
  {
   "cell_type": "code",
   "execution_count": 9,
   "metadata": {
    "ExecuteTime": {
     "end_time": "2021-04-15T21:28:42.088458Z",
     "start_time": "2021-04-15T21:28:41.075428Z"
    }
   },
   "outputs": [
    {
     "data": {
      "image/png": "[encoded data removed]",
      "text/plain": [
       "<Figure size 1440x720 with 2 Axes>"
      ]
     },
     "metadata": {
      "needs_background": "light"
     },
     "output_type": "display_data"
    }
   ],
   "source": [
    "k_nearest_neighbours_by_board = get_k_nearest_neighbours_by_dist(polygon, polygons, k=10, kind='by_board')\n",
    "k_nearest_neighbours_by_centroid = get_k_nearest_neighbours_by_dist(polygon, polygons, k=10, kind='by_centroid')\n",
    "\n",
    "fig = plt.figure(figsize=(20, 10))\n",
    "\n",
    "ax = plt.subplot(1, 2, 1)\n",
    "big_moscow_districts.plot(ax=ax, color='white', edgecolor='black')\n",
    "gpd.GeoSeries(polygons).plot(ax=ax, color='yellow', edgecolor='black')\n",
    "k_nearest_neighbours_by_centroid.plot(ax=ax, color='red', edgecolor='black')\n",
    "gpd.GeoSeries(polygon).plot(ax=ax, color='green', edgecolor='black')\n",
    "plt.title(\"Полигоны по центроидам\", fontsize=15)\n",
    "ax.set_axis_off()\n",
    "\n",
    "ax = plt.subplot(1, 2, 2)\n",
    "big_moscow_districts.plot(ax=ax, color='white', edgecolor='black')\n",
    "gpd.GeoSeries(polygons).plot(ax=ax, color='yellow', edgecolor='black')\n",
    "k_nearest_neighbours_by_board.plot(ax=ax, color='red', edgecolor='black')\n",
    "gpd.GeoSeries(polygon).plot(ax=ax, color='green', edgecolor='black')\n",
    "plt.title(\"Полигоны по границам\", fontsize=15)\n",
    "ax.set_axis_off()"
   ]
  },
  {
   "cell_type": "markdown",
   "metadata": {},
   "source": [
    "### Упражнение 3\n",
    "* Реализуйте функцию `spatial_resample`, выполняющую пространственное агрегирование. \n",
    "  На вход функция принимает:\n",
    "  - `init_polygons` - изначальное гео-разбиение\n",
    "  - `agg_polygons` - новое гео-разбиение, по которому будет проводится пространственное агрегирование\n",
    "  - `column` - название столбца количественной переменной в `init_polygons`, которая будет агрегирована  \n",
    "  - `method` - метод аггрегирования: `sum` - сумма значений, `mean` - среднее значение\n",
    "  - `kind` - способ аггрегирования при частичном пересечении полигонов из `agg_polygons` и `init_polygons`, `max` - отнести значение в `column` к полигону из `agg_polygons` с которым площадь пересечения максимальна, `prop` - разбить значение в `column` пропорционально площадям пересечений"
   ]
  },
  {
   "cell_type": "code",
   "execution_count": null,
   "metadata": {},
   "outputs": [],
   "source": [
    "# Сигнатура функции и пример вывода:\n",
    "\n",
    "grid_big_moscow = gpd.read_file('../data/grid_big_moscow.shp')\n",
    "grid_big_moscow.crs = \"EPSG:4326\"  \n",
    "grid_big_moscow['random_value'] = np.random.randint(0, 100, len(grid_big_moscow))\n",
    "\n",
    "mean_resample_table = spatial_resample(agg_polygons=big_moscow_districts, init_polygons=grid_big_moscow, \n",
    "                                       method='mean', column='random_value', kind='max')\n",
    "sum_resample_table = spatial_resample(agg_polygons=big_moscow_districts, init_polygons=grid_big_moscow, \n",
    "                                       method='sum', column='random_value', kind='max')\n",
    "mean_resample_table.head()"
   ]
  },
  {
   "cell_type": "code",
   "execution_count": null,
   "metadata": {},
   "outputs": [],
   "source": [
    "fig = plt.figure(figsize=(20, 10))\n",
    "plt.title('Init polygons', fontsize=20)\n",
    "ax = plt.gca()\n",
    "grid_big_moscow.plot(ax=ax, column='random_value', cmap='viridis', edgecolor='white', legend=True)\n",
    "ax.set_axis_off()"
   ]
  },
  {
   "cell_type": "code",
   "execution_count": null,
   "metadata": {
    "scrolled": true
   },
   "outputs": [],
   "source": [
    "###\n",
    "\n",
    "fig = plt.figure(figsize=(20, 10))\n",
    "\n",
    "ax = plt.subplot(1, 2, 1)\n",
    "plt.title('Spatial resample with sum func', fontsize=20)\n",
    "sum_resample_table.plot(ax=ax, column='random_value', cmap='viridis', edgecolor='white', legend=True)\n",
    "ax.set_axis_off()\n",
    "\n",
    "ax = plt.subplot(1, 2, 2)\n",
    "plt.title('Spatial resample with mean func', fontsize=20)\n",
    "mean_resample_table.plot(ax=ax, column='random_value', cmap='viridis', edgecolor='white', legend=True)\n",
    "ax.set_axis_off()"
   ]
  },
  {
   "cell_type": "markdown",
   "metadata": {},
   "source": [
    "### Упражнение 4\n",
    "* Отобразите результаты упражнений 2 и 3 (рисунки с `###`) на интерактивной карте в `Folium`"
   ]
  },
  {
   "cell_type": "code",
   "execution_count": 10,
   "metadata": {
    "ExecuteTime": {
     "end_time": "2021-04-15T21:28:45.522073Z",
     "start_time": "2021-04-15T21:28:45.044059Z"
    }
   },
   "outputs": [],
   "source": [
    "grid_big_moscow = gpd.read_file('../data/grid_big_moscow.shp')\n",
    "grid_big_moscow.crs = \"EPSG:4326\"  \n",
    "grid_big_moscow['random_value'] = np.random.randint(0, 100, len(grid_big_moscow))"
   ]
  },
  {
   "cell_type": "code",
   "execution_count": 11,
   "metadata": {
    "ExecuteTime": {
     "end_time": "2021-04-15T21:28:47.906077Z",
     "start_time": "2021-04-15T21:28:45.523059Z"
    },
    "scrolled": true
   },
   "outputs": [
    {
     "data": {
      "image/png": "[encoded data removed]",
      "text/plain": [
       "<Figure size 1440x720 with 2 Axes>"
      ]
     },
     "metadata": {
      "needs_background": "light"
     },
     "output_type": "display_data"
    }
   ],
   "source": [
    "fig = plt.figure(figsize=(20, 10))\n",
    "plt.title('Init polygons', fontsize=20)\n",
    "ax = plt.gca()\n",
    "grid_big_moscow.plot(ax=ax, column='random_value', cmap='viridis', edgecolor='white', legend=True)\n",
    "ax.set_axis_off()"
   ]
  },
  {
   "cell_type": "code",
   "execution_count": 12,
   "metadata": {
    "ExecuteTime": {
     "end_time": "2021-04-15T21:28:48.035055Z",
     "start_time": "2021-04-15T21:28:47.908076Z"
    }
   },
   "outputs": [
    {
     "data": {
      "text/html": [
       "<div>\n",
       "<style scoped>\n",
       "    .dataframe tbody tr th:only-of-type {\n",
       "        vertical-align: middle;\n",
       "    }\n",
       "\n",
       "    .dataframe tbody tr th {\n",
       "        vertical-align: top;\n",
       "    }\n",
       "\n",
       "    .dataframe thead th {\n",
       "        text-align: right;\n",
       "    }\n",
       "</style>\n",
       "<table border=\"1\" class=\"dataframe\">\n",
       "  <thead>\n",
       "    <tr style=\"text-align: right;\">\n",
       "      <th></th>\n",
       "      <th>FID</th>\n",
       "      <th>geometry</th>\n",
       "    </tr>\n",
       "  </thead>\n",
       "  <tbody>\n",
       "    <tr>\n",
       "      <th>0</th>\n",
       "      <td>0</td>\n",
       "      <td>POLYGON ((37.68525 55.89508, 37.68891 55.89504...</td>\n",
       "    </tr>\n",
       "    <tr>\n",
       "      <th>1</th>\n",
       "      <td>1</td>\n",
       "      <td>POLYGON ((37.60716 55.87932, 37.60754 55.87911...</td>\n",
       "    </tr>\n",
       "    <tr>\n",
       "      <th>2</th>\n",
       "      <td>2</td>\n",
       "      <td>POLYGON ((37.64437 55.89768, 37.65226 55.89678...</td>\n",
       "    </tr>\n",
       "    <tr>\n",
       "      <th>3</th>\n",
       "      <td>3</td>\n",
       "      <td>POLYGON ((37.49625 55.89248, 37.49851 55.89347...</td>\n",
       "    </tr>\n",
       "    <tr>\n",
       "      <th>4</th>\n",
       "      <td>4</td>\n",
       "      <td>POLYGON ((37.41143 55.87096, 37.40632 55.87426...</td>\n",
       "    </tr>\n",
       "    <tr>\n",
       "      <th>...</th>\n",
       "      <td>...</td>\n",
       "      <td>...</td>\n",
       "    </tr>\n",
       "    <tr>\n",
       "      <th>141</th>\n",
       "      <td>141</td>\n",
       "      <td>MULTIPOLYGON (((37.31548 55.61297, 37.31545 55...</td>\n",
       "    </tr>\n",
       "    <tr>\n",
       "      <th>142</th>\n",
       "      <td>142</td>\n",
       "      <td>POLYGON ((37.13243 55.59919, 37.13442 55.60066...</td>\n",
       "    </tr>\n",
       "    <tr>\n",
       "      <th>143</th>\n",
       "      <td>143</td>\n",
       "      <td>POLYGON ((37.78505 55.61682, 37.78475 55.61683...</td>\n",
       "    </tr>\n",
       "    <tr>\n",
       "      <th>144</th>\n",
       "      <td>144</td>\n",
       "      <td>POLYGON ((37.64065 55.61046, 37.63994 55.61011...</td>\n",
       "    </tr>\n",
       "    <tr>\n",
       "      <th>145</th>\n",
       "      <td>145</td>\n",
       "      <td>POLYGON ((37.58598 55.63117, 37.58588 55.63087...</td>\n",
       "    </tr>\n",
       "  </tbody>\n",
       "</table>\n",
       "<p>146 rows × 2 columns</p>\n",
       "</div>"
      ],
      "text/plain": [
       "     FID                                           geometry\n",
       "0      0  POLYGON ((37.68525 55.89508, 37.68891 55.89504...\n",
       "1      1  POLYGON ((37.60716 55.87932, 37.60754 55.87911...\n",
       "2      2  POLYGON ((37.64437 55.89768, 37.65226 55.89678...\n",
       "3      3  POLYGON ((37.49625 55.89248, 37.49851 55.89347...\n",
       "4      4  POLYGON ((37.41143 55.87096, 37.40632 55.87426...\n",
       "..   ...                                                ...\n",
       "141  141  MULTIPOLYGON (((37.31548 55.61297, 37.31545 55...\n",
       "142  142  POLYGON ((37.13243 55.59919, 37.13442 55.60066...\n",
       "143  143  POLYGON ((37.78505 55.61682, 37.78475 55.61683...\n",
       "144  144  POLYGON ((37.64065 55.61046, 37.63994 55.61011...\n",
       "145  145  POLYGON ((37.58598 55.63117, 37.58588 55.63087...\n",
       "\n",
       "[146 rows x 2 columns]"
      ]
     },
     "execution_count": 12,
     "metadata": {},
     "output_type": "execute_result"
    }
   ],
   "source": [
    "big_moscow_districts"
   ]
  },
  {
   "cell_type": "code",
   "execution_count": 13,
   "metadata": {
    "ExecuteTime": {
     "end_time": "2021-04-15T21:28:48.144072Z",
     "start_time": "2021-04-15T21:28:48.037065Z"
    },
    "scrolled": true
   },
   "outputs": [
    {
     "data": {
      "text/html": [
       "<div>\n",
       "<style scoped>\n",
       "    .dataframe tbody tr th:only-of-type {\n",
       "        vertical-align: middle;\n",
       "    }\n",
       "\n",
       "    .dataframe tbody tr th {\n",
       "        vertical-align: top;\n",
       "    }\n",
       "\n",
       "    .dataframe thead th {\n",
       "        text-align: right;\n",
       "    }\n",
       "</style>\n",
       "<table border=\"1\" class=\"dataframe\">\n",
       "  <thead>\n",
       "    <tr style=\"text-align: right;\">\n",
       "      <th></th>\n",
       "      <th>FID</th>\n",
       "      <th>geometry</th>\n",
       "      <th>random_value</th>\n",
       "    </tr>\n",
       "  </thead>\n",
       "  <tbody>\n",
       "    <tr>\n",
       "      <th>0</th>\n",
       "      <td>0</td>\n",
       "      <td>POLYGON ((37.03280 55.13974, 37.03280 55.14423...</td>\n",
       "      <td>46</td>\n",
       "    </tr>\n",
       "    <tr>\n",
       "      <th>1</th>\n",
       "      <td>1</td>\n",
       "      <td>POLYGON ((37.04064 55.13974, 37.04064 55.14423...</td>\n",
       "      <td>15</td>\n",
       "    </tr>\n",
       "    <tr>\n",
       "      <th>2</th>\n",
       "      <td>2</td>\n",
       "      <td>POLYGON ((37.04849 55.13974, 37.04849 55.14423...</td>\n",
       "      <td>11</td>\n",
       "    </tr>\n",
       "    <tr>\n",
       "      <th>3</th>\n",
       "      <td>3</td>\n",
       "      <td>POLYGON ((37.05633 55.13974, 37.05633 55.14423...</td>\n",
       "      <td>75</td>\n",
       "    </tr>\n",
       "    <tr>\n",
       "      <th>4</th>\n",
       "      <td>4</td>\n",
       "      <td>POLYGON ((37.02496 55.14423, 37.02496 55.14872...</td>\n",
       "      <td>97</td>\n",
       "    </tr>\n",
       "    <tr>\n",
       "      <th>...</th>\n",
       "      <td>...</td>\n",
       "      <td>...</td>\n",
       "      <td>...</td>\n",
       "    </tr>\n",
       "    <tr>\n",
       "      <th>11032</th>\n",
       "      <td>11032</td>\n",
       "      <td>POLYGON ((37.18962 56.01603, 37.18962 56.02062...</td>\n",
       "      <td>87</td>\n",
       "    </tr>\n",
       "    <tr>\n",
       "      <th>11033</th>\n",
       "      <td>11033</td>\n",
       "      <td>POLYGON ((37.19746 56.01603, 37.19746 56.02062...</td>\n",
       "      <td>79</td>\n",
       "    </tr>\n",
       "    <tr>\n",
       "      <th>11034</th>\n",
       "      <td>11034</td>\n",
       "      <td>POLYGON ((37.20530 56.01603, 37.20530 56.02062...</td>\n",
       "      <td>26</td>\n",
       "    </tr>\n",
       "    <tr>\n",
       "      <th>11035</th>\n",
       "      <td>11035</td>\n",
       "      <td>POLYGON ((37.18178 56.02062, 37.18178 56.02521...</td>\n",
       "      <td>68</td>\n",
       "    </tr>\n",
       "    <tr>\n",
       "      <th>11036</th>\n",
       "      <td>11036</td>\n",
       "      <td>POLYGON ((37.18962 56.02062, 37.18962 56.02521...</td>\n",
       "      <td>6</td>\n",
       "    </tr>\n",
       "  </tbody>\n",
       "</table>\n",
       "<p>11037 rows × 3 columns</p>\n",
       "</div>"
      ],
      "text/plain": [
       "         FID                                           geometry  random_value\n",
       "0          0  POLYGON ((37.03280 55.13974, 37.03280 55.14423...            46\n",
       "1          1  POLYGON ((37.04064 55.13974, 37.04064 55.14423...            15\n",
       "2          2  POLYGON ((37.04849 55.13974, 37.04849 55.14423...            11\n",
       "3          3  POLYGON ((37.05633 55.13974, 37.05633 55.14423...            75\n",
       "4          4  POLYGON ((37.02496 55.14423, 37.02496 55.14872...            97\n",
       "...      ...                                                ...           ...\n",
       "11032  11032  POLYGON ((37.18962 56.01603, 37.18962 56.02062...            87\n",
       "11033  11033  POLYGON ((37.19746 56.01603, 37.19746 56.02062...            79\n",
       "11034  11034  POLYGON ((37.20530 56.01603, 37.20530 56.02062...            26\n",
       "11035  11035  POLYGON ((37.18178 56.02062, 37.18178 56.02521...            68\n",
       "11036  11036  POLYGON ((37.18962 56.02062, 37.18962 56.02521...             6\n",
       "\n",
       "[11037 rows x 3 columns]"
      ]
     },
     "execution_count": 13,
     "metadata": {},
     "output_type": "execute_result"
    }
   ],
   "source": [
    "grid_big_moscow"
   ]
  },
  {
   "cell_type": "code",
   "execution_count": 14,
   "metadata": {
    "ExecuteTime": {
     "end_time": "2021-04-15T21:28:48.621056Z",
     "start_time": "2021-04-15T21:28:48.146059Z"
    },
    "scrolled": true
   },
   "outputs": [
    {
     "name": "stderr",
     "output_type": "stream",
     "text": [
      "<ipython-input-14-f747c29f2e65>:1: UserWarning: Geometry is in a geographic CRS. Results from 'area' are likely incorrect. Use 'GeoSeries.to_crs()' to re-project geometries to a projected CRS before this operation.\n",
      "\n",
      "  grid_big_moscow['area_initial'] = grid_big_moscow.geometry.area\n"
     ]
    },
    {
     "data": {
      "text/html": [
       "<div>\n",
       "<style scoped>\n",
       "    .dataframe tbody tr th:only-of-type {\n",
       "        vertical-align: middle;\n",
       "    }\n",
       "\n",
       "    .dataframe tbody tr th {\n",
       "        vertical-align: top;\n",
       "    }\n",
       "\n",
       "    .dataframe thead th {\n",
       "        text-align: right;\n",
       "    }\n",
       "</style>\n",
       "<table border=\"1\" class=\"dataframe\">\n",
       "  <thead>\n",
       "    <tr style=\"text-align: right;\">\n",
       "      <th></th>\n",
       "      <th>FID</th>\n",
       "      <th>geometry</th>\n",
       "      <th>random_value</th>\n",
       "      <th>area_initial</th>\n",
       "    </tr>\n",
       "  </thead>\n",
       "  <tbody>\n",
       "    <tr>\n",
       "      <th>0</th>\n",
       "      <td>0</td>\n",
       "      <td>POLYGON ((37.03280 55.13974, 37.03280 55.14423...</td>\n",
       "      <td>46</td>\n",
       "      <td>0.000035</td>\n",
       "    </tr>\n",
       "    <tr>\n",
       "      <th>1</th>\n",
       "      <td>1</td>\n",
       "      <td>POLYGON ((37.04064 55.13974, 37.04064 55.14423...</td>\n",
       "      <td>15</td>\n",
       "      <td>0.000035</td>\n",
       "    </tr>\n",
       "    <tr>\n",
       "      <th>2</th>\n",
       "      <td>2</td>\n",
       "      <td>POLYGON ((37.04849 55.13974, 37.04849 55.14423...</td>\n",
       "      <td>11</td>\n",
       "      <td>0.000035</td>\n",
       "    </tr>\n",
       "    <tr>\n",
       "      <th>3</th>\n",
       "      <td>3</td>\n",
       "      <td>POLYGON ((37.05633 55.13974, 37.05633 55.14423...</td>\n",
       "      <td>75</td>\n",
       "      <td>0.000035</td>\n",
       "    </tr>\n",
       "    <tr>\n",
       "      <th>4</th>\n",
       "      <td>4</td>\n",
       "      <td>POLYGON ((37.02496 55.14423, 37.02496 55.14872...</td>\n",
       "      <td>97</td>\n",
       "      <td>0.000035</td>\n",
       "    </tr>\n",
       "    <tr>\n",
       "      <th>...</th>\n",
       "      <td>...</td>\n",
       "      <td>...</td>\n",
       "      <td>...</td>\n",
       "      <td>...</td>\n",
       "    </tr>\n",
       "    <tr>\n",
       "      <th>11032</th>\n",
       "      <td>11032</td>\n",
       "      <td>POLYGON ((37.18962 56.01603, 37.18962 56.02062...</td>\n",
       "      <td>87</td>\n",
       "      <td>0.000036</td>\n",
       "    </tr>\n",
       "    <tr>\n",
       "      <th>11033</th>\n",
       "      <td>11033</td>\n",
       "      <td>POLYGON ((37.19746 56.01603, 37.19746 56.02062...</td>\n",
       "      <td>79</td>\n",
       "      <td>0.000036</td>\n",
       "    </tr>\n",
       "    <tr>\n",
       "      <th>11034</th>\n",
       "      <td>11034</td>\n",
       "      <td>POLYGON ((37.20530 56.01603, 37.20530 56.02062...</td>\n",
       "      <td>26</td>\n",
       "      <td>0.000036</td>\n",
       "    </tr>\n",
       "    <tr>\n",
       "      <th>11035</th>\n",
       "      <td>11035</td>\n",
       "      <td>POLYGON ((37.18178 56.02062, 37.18178 56.02521...</td>\n",
       "      <td>68</td>\n",
       "      <td>0.000036</td>\n",
       "    </tr>\n",
       "    <tr>\n",
       "      <th>11036</th>\n",
       "      <td>11036</td>\n",
       "      <td>POLYGON ((37.18962 56.02062, 37.18962 56.02521...</td>\n",
       "      <td>6</td>\n",
       "      <td>0.000036</td>\n",
       "    </tr>\n",
       "  </tbody>\n",
       "</table>\n",
       "<p>11037 rows × 4 columns</p>\n",
       "</div>"
      ],
      "text/plain": [
       "         FID                                           geometry  random_value  \\\n",
       "0          0  POLYGON ((37.03280 55.13974, 37.03280 55.14423...            46   \n",
       "1          1  POLYGON ((37.04064 55.13974, 37.04064 55.14423...            15   \n",
       "2          2  POLYGON ((37.04849 55.13974, 37.04849 55.14423...            11   \n",
       "3          3  POLYGON ((37.05633 55.13974, 37.05633 55.14423...            75   \n",
       "4          4  POLYGON ((37.02496 55.14423, 37.02496 55.14872...            97   \n",
       "...      ...                                                ...           ...   \n",
       "11032  11032  POLYGON ((37.18962 56.01603, 37.18962 56.02062...            87   \n",
       "11033  11033  POLYGON ((37.19746 56.01603, 37.19746 56.02062...            79   \n",
       "11034  11034  POLYGON ((37.20530 56.01603, 37.20530 56.02062...            26   \n",
       "11035  11035  POLYGON ((37.18178 56.02062, 37.18178 56.02521...            68   \n",
       "11036  11036  POLYGON ((37.18962 56.02062, 37.18962 56.02521...             6   \n",
       "\n",
       "       area_initial  \n",
       "0          0.000035  \n",
       "1          0.000035  \n",
       "2          0.000035  \n",
       "3          0.000035  \n",
       "4          0.000035  \n",
       "...             ...  \n",
       "11032      0.000036  \n",
       "11033      0.000036  \n",
       "11034      0.000036  \n",
       "11035      0.000036  \n",
       "11036      0.000036  \n",
       "\n",
       "[11037 rows x 4 columns]"
      ]
     },
     "execution_count": 14,
     "metadata": {},
     "output_type": "execute_result"
    }
   ],
   "source": [
    "grid_big_moscow['area_initial'] = grid_big_moscow.geometry.area\n",
    "grid_big_moscow"
   ]
  },
  {
   "cell_type": "code",
   "execution_count": 15,
   "metadata": {
    "ExecuteTime": {
     "end_time": "2021-04-15T21:28:49.522075Z",
     "start_time": "2021-04-15T21:28:48.624055Z"
    },
    "scrolled": true
   },
   "outputs": [
    {
     "data": {
      "text/html": [
       "<div>\n",
       "<style scoped>\n",
       "    .dataframe tbody tr th:only-of-type {\n",
       "        vertical-align: middle;\n",
       "    }\n",
       "\n",
       "    .dataframe tbody tr th {\n",
       "        vertical-align: top;\n",
       "    }\n",
       "\n",
       "    .dataframe thead th {\n",
       "        text-align: right;\n",
       "    }\n",
       "</style>\n",
       "<table border=\"1\" class=\"dataframe\">\n",
       "  <thead>\n",
       "    <tr style=\"text-align: right;\">\n",
       "      <th></th>\n",
       "      <th>FID_left</th>\n",
       "      <th>geometry</th>\n",
       "      <th>index_right</th>\n",
       "      <th>FID_right</th>\n",
       "      <th>random_value</th>\n",
       "      <th>area_initial</th>\n",
       "    </tr>\n",
       "  </thead>\n",
       "  <tbody>\n",
       "    <tr>\n",
       "      <th>0</th>\n",
       "      <td>0</td>\n",
       "      <td>POLYGON ((37.68525 55.89508, 37.68891 55.89504...</td>\n",
       "      <td>10403</td>\n",
       "      <td>10403</td>\n",
       "      <td>9</td>\n",
       "      <td>0.000036</td>\n",
       "    </tr>\n",
       "    <tr>\n",
       "      <th>67</th>\n",
       "      <td>67</td>\n",
       "      <td>POLYGON ((37.68354 55.86437, 37.68290 55.86394...</td>\n",
       "      <td>10403</td>\n",
       "      <td>10403</td>\n",
       "      <td>9</td>\n",
       "      <td>0.000036</td>\n",
       "    </tr>\n",
       "    <tr>\n",
       "      <th>0</th>\n",
       "      <td>0</td>\n",
       "      <td>POLYGON ((37.68525 55.89508, 37.68891 55.89504...</td>\n",
       "      <td>10407</td>\n",
       "      <td>10407</td>\n",
       "      <td>19</td>\n",
       "      <td>0.000036</td>\n",
       "    </tr>\n",
       "    <tr>\n",
       "      <th>62</th>\n",
       "      <td>62</td>\n",
       "      <td>POLYGON ((37.71971 55.88591, 37.72021 55.88566...</td>\n",
       "      <td>10407</td>\n",
       "      <td>10407</td>\n",
       "      <td>19</td>\n",
       "      <td>0.000036</td>\n",
       "    </tr>\n",
       "    <tr>\n",
       "      <th>0</th>\n",
       "      <td>0</td>\n",
       "      <td>POLYGON ((37.68525 55.89508, 37.68891 55.89504...</td>\n",
       "      <td>10453</td>\n",
       "      <td>10453</td>\n",
       "      <td>53</td>\n",
       "      <td>0.000036</td>\n",
       "    </tr>\n",
       "    <tr>\n",
       "      <th>...</th>\n",
       "      <td>...</td>\n",
       "      <td>...</td>\n",
       "      <td>...</td>\n",
       "      <td>...</td>\n",
       "      <td>...</td>\n",
       "      <td>...</td>\n",
       "    </tr>\n",
       "    <tr>\n",
       "      <th>145</th>\n",
       "      <td>145</td>\n",
       "      <td>POLYGON ((37.58598 55.63117, 37.58588 55.63087...</td>\n",
       "      <td>6087</td>\n",
       "      <td>6087</td>\n",
       "      <td>61</td>\n",
       "      <td>0.000036</td>\n",
       "    </tr>\n",
       "    <tr>\n",
       "      <th>145</th>\n",
       "      <td>145</td>\n",
       "      <td>POLYGON ((37.58598 55.63117, 37.58588 55.63087...</td>\n",
       "      <td>6086</td>\n",
       "      <td>6086</td>\n",
       "      <td>64</td>\n",
       "      <td>0.000036</td>\n",
       "    </tr>\n",
       "    <tr>\n",
       "      <th>145</th>\n",
       "      <td>145</td>\n",
       "      <td>POLYGON ((37.58598 55.63117, 37.58588 55.63087...</td>\n",
       "      <td>6172</td>\n",
       "      <td>6172</td>\n",
       "      <td>62</td>\n",
       "      <td>0.000036</td>\n",
       "    </tr>\n",
       "    <tr>\n",
       "      <th>145</th>\n",
       "      <td>145</td>\n",
       "      <td>POLYGON ((37.58598 55.63117, 37.58588 55.63087...</td>\n",
       "      <td>6171</td>\n",
       "      <td>6171</td>\n",
       "      <td>94</td>\n",
       "      <td>0.000036</td>\n",
       "    </tr>\n",
       "    <tr>\n",
       "      <th>145</th>\n",
       "      <td>145</td>\n",
       "      <td>POLYGON ((37.58598 55.63117, 37.58588 55.63087...</td>\n",
       "      <td>6170</td>\n",
       "      <td>6170</td>\n",
       "      <td>41</td>\n",
       "      <td>0.000036</td>\n",
       "    </tr>\n",
       "  </tbody>\n",
       "</table>\n",
       "<p>13817 rows × 6 columns</p>\n",
       "</div>"
      ],
      "text/plain": [
       "     FID_left                                           geometry  index_right  \\\n",
       "0           0  POLYGON ((37.68525 55.89508, 37.68891 55.89504...        10403   \n",
       "67         67  POLYGON ((37.68354 55.86437, 37.68290 55.86394...        10403   \n",
       "0           0  POLYGON ((37.68525 55.89508, 37.68891 55.89504...        10407   \n",
       "62         62  POLYGON ((37.71971 55.88591, 37.72021 55.88566...        10407   \n",
       "0           0  POLYGON ((37.68525 55.89508, 37.68891 55.89504...        10453   \n",
       "..        ...                                                ...          ...   \n",
       "145       145  POLYGON ((37.58598 55.63117, 37.58588 55.63087...         6087   \n",
       "145       145  POLYGON ((37.58598 55.63117, 37.58588 55.63087...         6086   \n",
       "145       145  POLYGON ((37.58598 55.63117, 37.58588 55.63087...         6172   \n",
       "145       145  POLYGON ((37.58598 55.63117, 37.58588 55.63087...         6171   \n",
       "145       145  POLYGON ((37.58598 55.63117, 37.58588 55.63087...         6170   \n",
       "\n",
       "     FID_right  random_value  area_initial  \n",
       "0        10403             9      0.000036  \n",
       "67       10403             9      0.000036  \n",
       "0        10407            19      0.000036  \n",
       "62       10407            19      0.000036  \n",
       "0        10453            53      0.000036  \n",
       "..         ...           ...           ...  \n",
       "145       6087            61      0.000036  \n",
       "145       6086            64      0.000036  \n",
       "145       6172            62      0.000036  \n",
       "145       6171            94      0.000036  \n",
       "145       6170            41      0.000036  \n",
       "\n",
       "[13817 rows x 6 columns]"
      ]
     },
     "execution_count": 15,
     "metadata": {},
     "output_type": "execute_result"
    }
   ],
   "source": [
    "A = gpd.sjoin(big_moscow_districts, grid_big_moscow, op='intersects')\n",
    "A"
   ]
  },
  {
   "cell_type": "code",
   "execution_count": 16,
   "metadata": {
    "ExecuteTime": {
     "end_time": "2021-04-15T21:28:49.538070Z",
     "start_time": "2021-04-15T21:28:49.524076Z"
    }
   },
   "outputs": [
    {
     "data": {
      "text/plain": [
       "0.00047304809581987726"
      ]
     },
     "execution_count": 16,
     "metadata": {},
     "output_type": "execute_result"
    }
   ],
   "source": [
    "# intersection\n",
    "big_moscow_districts.iloc[1]['geometry'].area\n",
    "# grid_big_moscow.iloc[10542]['geometry'].intersection(big_moscow_districts.iloc[0]['geometry']).area"
   ]
  },
  {
   "cell_type": "code",
   "execution_count": 17,
   "metadata": {
    "ExecuteTime": {
     "end_time": "2021-04-15T21:28:49.554054Z",
     "start_time": "2021-04-15T21:28:49.540075Z"
    }
   },
   "outputs": [
    {
     "data": {
      "text/plain": [
       "0.0007706904622000327"
      ]
     },
     "execution_count": 17,
     "metadata": {},
     "output_type": "execute_result"
    }
   ],
   "source": [
    "A.iloc[0]['geometry'].area"
   ]
  },
  {
   "cell_type": "code",
   "execution_count": 18,
   "metadata": {
    "ExecuteTime": {
     "end_time": "2021-04-15T21:28:49.570070Z",
     "start_time": "2021-04-15T21:28:49.557056Z"
    }
   },
   "outputs": [
    {
     "data": {
      "text/plain": [
       "21.48881021116026"
      ]
     },
     "execution_count": 18,
     "metadata": {},
     "output_type": "execute_result"
    }
   ],
   "source": [
    "A.iloc[0]['geometry'].area / A.iloc[0]['area_initial']"
   ]
  },
  {
   "cell_type": "code",
   "execution_count": 19,
   "metadata": {
    "ExecuteTime": {
     "end_time": "2021-04-15T21:28:49.586071Z",
     "start_time": "2021-04-15T21:28:49.573054Z"
    }
   },
   "outputs": [
    {
     "data": {
      "text/plain": [
       "10120    5\n",
       "9340     5\n",
       "9262     4\n",
       "4654     4\n",
       "9936     4\n",
       "        ..\n",
       "10286    1\n",
       "8239     1\n",
       "6192     1\n",
       "51       1\n",
       "2047     1\n",
       "Name: FID_right, Length: 10809, dtype: int64"
      ]
     },
     "execution_count": 19,
     "metadata": {},
     "output_type": "execute_result"
    }
   ],
   "source": [
    "A['FID_right'].value_counts()"
   ]
  },
  {
   "cell_type": "code",
   "execution_count": 20,
   "metadata": {
    "ExecuteTime": {
     "end_time": "2021-04-15T21:28:49.743052Z",
     "start_time": "2021-04-15T21:28:49.589066Z"
    }
   },
   "outputs": [
    {
     "data": {
      "text/html": [
       "<div>\n",
       "<style scoped>\n",
       "    .dataframe tbody tr th:only-of-type {\n",
       "        vertical-align: middle;\n",
       "    }\n",
       "\n",
       "    .dataframe tbody tr th {\n",
       "        vertical-align: top;\n",
       "    }\n",
       "\n",
       "    .dataframe thead th {\n",
       "        text-align: right;\n",
       "    }\n",
       "</style>\n",
       "<table border=\"1\" class=\"dataframe\">\n",
       "  <thead>\n",
       "    <tr style=\"text-align: right;\">\n",
       "      <th></th>\n",
       "      <th>index</th>\n",
       "      <th>FID_left</th>\n",
       "      <th>geometry</th>\n",
       "      <th>index_right</th>\n",
       "      <th>FID_right</th>\n",
       "      <th>random_value</th>\n",
       "      <th>area_initial</th>\n",
       "    </tr>\n",
       "  </thead>\n",
       "  <tbody>\n",
       "    <tr>\n",
       "      <th>0</th>\n",
       "      <td>0</td>\n",
       "      <td>0</td>\n",
       "      <td>POLYGON ((37.68525 55.89508, 37.68891 55.89504...</td>\n",
       "      <td>10403</td>\n",
       "      <td>10403</td>\n",
       "      <td>9</td>\n",
       "      <td>0.000036</td>\n",
       "    </tr>\n",
       "    <tr>\n",
       "      <th>1</th>\n",
       "      <td>67</td>\n",
       "      <td>67</td>\n",
       "      <td>POLYGON ((37.68354 55.86437, 37.68290 55.86394...</td>\n",
       "      <td>10403</td>\n",
       "      <td>10403</td>\n",
       "      <td>9</td>\n",
       "      <td>0.000036</td>\n",
       "    </tr>\n",
       "    <tr>\n",
       "      <th>2</th>\n",
       "      <td>0</td>\n",
       "      <td>0</td>\n",
       "      <td>POLYGON ((37.68525 55.89508, 37.68891 55.89504...</td>\n",
       "      <td>10407</td>\n",
       "      <td>10407</td>\n",
       "      <td>19</td>\n",
       "      <td>0.000036</td>\n",
       "    </tr>\n",
       "    <tr>\n",
       "      <th>3</th>\n",
       "      <td>62</td>\n",
       "      <td>62</td>\n",
       "      <td>POLYGON ((37.71971 55.88591, 37.72021 55.88566...</td>\n",
       "      <td>10407</td>\n",
       "      <td>10407</td>\n",
       "      <td>19</td>\n",
       "      <td>0.000036</td>\n",
       "    </tr>\n",
       "    <tr>\n",
       "      <th>4</th>\n",
       "      <td>0</td>\n",
       "      <td>0</td>\n",
       "      <td>POLYGON ((37.68525 55.89508, 37.68891 55.89504...</td>\n",
       "      <td>10453</td>\n",
       "      <td>10453</td>\n",
       "      <td>53</td>\n",
       "      <td>0.000036</td>\n",
       "    </tr>\n",
       "    <tr>\n",
       "      <th>...</th>\n",
       "      <td>...</td>\n",
       "      <td>...</td>\n",
       "      <td>...</td>\n",
       "      <td>...</td>\n",
       "      <td>...</td>\n",
       "      <td>...</td>\n",
       "      <td>...</td>\n",
       "    </tr>\n",
       "    <tr>\n",
       "      <th>13812</th>\n",
       "      <td>145</td>\n",
       "      <td>145</td>\n",
       "      <td>POLYGON ((37.58598 55.63117, 37.58588 55.63087...</td>\n",
       "      <td>6087</td>\n",
       "      <td>6087</td>\n",
       "      <td>61</td>\n",
       "      <td>0.000036</td>\n",
       "    </tr>\n",
       "    <tr>\n",
       "      <th>13813</th>\n",
       "      <td>145</td>\n",
       "      <td>145</td>\n",
       "      <td>POLYGON ((37.58598 55.63117, 37.58588 55.63087...</td>\n",
       "      <td>6086</td>\n",
       "      <td>6086</td>\n",
       "      <td>64</td>\n",
       "      <td>0.000036</td>\n",
       "    </tr>\n",
       "    <tr>\n",
       "      <th>13814</th>\n",
       "      <td>145</td>\n",
       "      <td>145</td>\n",
       "      <td>POLYGON ((37.58598 55.63117, 37.58588 55.63087...</td>\n",
       "      <td>6172</td>\n",
       "      <td>6172</td>\n",
       "      <td>62</td>\n",
       "      <td>0.000036</td>\n",
       "    </tr>\n",
       "    <tr>\n",
       "      <th>13815</th>\n",
       "      <td>145</td>\n",
       "      <td>145</td>\n",
       "      <td>POLYGON ((37.58598 55.63117, 37.58588 55.63087...</td>\n",
       "      <td>6171</td>\n",
       "      <td>6171</td>\n",
       "      <td>94</td>\n",
       "      <td>0.000036</td>\n",
       "    </tr>\n",
       "    <tr>\n",
       "      <th>13816</th>\n",
       "      <td>145</td>\n",
       "      <td>145</td>\n",
       "      <td>POLYGON ((37.58598 55.63117, 37.58588 55.63087...</td>\n",
       "      <td>6170</td>\n",
       "      <td>6170</td>\n",
       "      <td>41</td>\n",
       "      <td>0.000036</td>\n",
       "    </tr>\n",
       "  </tbody>\n",
       "</table>\n",
       "<p>13817 rows × 7 columns</p>\n",
       "</div>"
      ],
      "text/plain": [
       "       index  FID_left                                           geometry  \\\n",
       "0          0         0  POLYGON ((37.68525 55.89508, 37.68891 55.89504...   \n",
       "1         67        67  POLYGON ((37.68354 55.86437, 37.68290 55.86394...   \n",
       "2          0         0  POLYGON ((37.68525 55.89508, 37.68891 55.89504...   \n",
       "3         62        62  POLYGON ((37.71971 55.88591, 37.72021 55.88566...   \n",
       "4          0         0  POLYGON ((37.68525 55.89508, 37.68891 55.89504...   \n",
       "...      ...       ...                                                ...   \n",
       "13812    145       145  POLYGON ((37.58598 55.63117, 37.58588 55.63087...   \n",
       "13813    145       145  POLYGON ((37.58598 55.63117, 37.58588 55.63087...   \n",
       "13814    145       145  POLYGON ((37.58598 55.63117, 37.58588 55.63087...   \n",
       "13815    145       145  POLYGON ((37.58598 55.63117, 37.58588 55.63087...   \n",
       "13816    145       145  POLYGON ((37.58598 55.63117, 37.58588 55.63087...   \n",
       "\n",
       "       index_right  FID_right  random_value  area_initial  \n",
       "0            10403      10403             9      0.000036  \n",
       "1            10403      10403             9      0.000036  \n",
       "2            10407      10407            19      0.000036  \n",
       "3            10407      10407            19      0.000036  \n",
       "4            10453      10453            53      0.000036  \n",
       "...            ...        ...           ...           ...  \n",
       "13812         6087       6087            61      0.000036  \n",
       "13813         6086       6086            64      0.000036  \n",
       "13814         6172       6172            62      0.000036  \n",
       "13815         6171       6171            94      0.000036  \n",
       "13816         6170       6170            41      0.000036  \n",
       "\n",
       "[13817 rows x 7 columns]"
      ]
     },
     "execution_count": 20,
     "metadata": {},
     "output_type": "execute_result"
    }
   ],
   "source": [
    "A = A.reset_index()\n",
    "A"
   ]
  },
  {
   "cell_type": "code",
   "execution_count": 21,
   "metadata": {
    "ExecuteTime": {
     "end_time": "2021-04-15T21:28:56.970062Z",
     "start_time": "2021-04-15T21:28:49.745054Z"
    },
    "scrolled": true
   },
   "outputs": [
    {
     "data": {
      "text/html": [
       "<div>\n",
       "<style scoped>\n",
       "    .dataframe tbody tr th:only-of-type {\n",
       "        vertical-align: middle;\n",
       "    }\n",
       "\n",
       "    .dataframe tbody tr th {\n",
       "        vertical-align: top;\n",
       "    }\n",
       "\n",
       "    .dataframe thead th {\n",
       "        text-align: right;\n",
       "    }\n",
       "</style>\n",
       "<table border=\"1\" class=\"dataframe\">\n",
       "  <thead>\n",
       "    <tr style=\"text-align: right;\">\n",
       "      <th></th>\n",
       "      <th>index</th>\n",
       "      <th>FID_left</th>\n",
       "      <th>geometry</th>\n",
       "      <th>index_right</th>\n",
       "      <th>FID_right</th>\n",
       "      <th>random_value</th>\n",
       "      <th>area_initial</th>\n",
       "      <th>area_of_intersection</th>\n",
       "    </tr>\n",
       "  </thead>\n",
       "  <tbody>\n",
       "    <tr>\n",
       "      <th>0</th>\n",
       "      <td>0</td>\n",
       "      <td>0</td>\n",
       "      <td>POLYGON ((37.68525 55.89508, 37.68891 55.89504...</td>\n",
       "      <td>10403</td>\n",
       "      <td>10403</td>\n",
       "      <td>9</td>\n",
       "      <td>0.000036</td>\n",
       "      <td>4.368653e-08</td>\n",
       "    </tr>\n",
       "    <tr>\n",
       "      <th>1</th>\n",
       "      <td>67</td>\n",
       "      <td>67</td>\n",
       "      <td>POLYGON ((37.68354 55.86437, 37.68290 55.86394...</td>\n",
       "      <td>10403</td>\n",
       "      <td>10403</td>\n",
       "      <td>9</td>\n",
       "      <td>0.000036</td>\n",
       "      <td>3.582105e-05</td>\n",
       "    </tr>\n",
       "    <tr>\n",
       "      <th>2</th>\n",
       "      <td>0</td>\n",
       "      <td>0</td>\n",
       "      <td>POLYGON ((37.68525 55.89508, 37.68891 55.89504...</td>\n",
       "      <td>10407</td>\n",
       "      <td>10407</td>\n",
       "      <td>19</td>\n",
       "      <td>0.000036</td>\n",
       "      <td>1.089422e-06</td>\n",
       "    </tr>\n",
       "    <tr>\n",
       "      <th>3</th>\n",
       "      <td>62</td>\n",
       "      <td>62</td>\n",
       "      <td>POLYGON ((37.71971 55.88591, 37.72021 55.88566...</td>\n",
       "      <td>10407</td>\n",
       "      <td>10407</td>\n",
       "      <td>19</td>\n",
       "      <td>0.000036</td>\n",
       "      <td>3.477531e-05</td>\n",
       "    </tr>\n",
       "    <tr>\n",
       "      <th>4</th>\n",
       "      <td>0</td>\n",
       "      <td>0</td>\n",
       "      <td>POLYGON ((37.68525 55.89508, 37.68891 55.89504...</td>\n",
       "      <td>10453</td>\n",
       "      <td>10453</td>\n",
       "      <td>53</td>\n",
       "      <td>0.000036</td>\n",
       "      <td>3.587258e-05</td>\n",
       "    </tr>\n",
       "    <tr>\n",
       "      <th>...</th>\n",
       "      <td>...</td>\n",
       "      <td>...</td>\n",
       "      <td>...</td>\n",
       "      <td>...</td>\n",
       "      <td>...</td>\n",
       "      <td>...</td>\n",
       "      <td>...</td>\n",
       "      <td>...</td>\n",
       "    </tr>\n",
       "    <tr>\n",
       "      <th>13812</th>\n",
       "      <td>145</td>\n",
       "      <td>145</td>\n",
       "      <td>POLYGON ((37.58598 55.63117, 37.58588 55.63087...</td>\n",
       "      <td>6087</td>\n",
       "      <td>6087</td>\n",
       "      <td>61</td>\n",
       "      <td>0.000036</td>\n",
       "      <td>3.560928e-05</td>\n",
       "    </tr>\n",
       "    <tr>\n",
       "      <th>13813</th>\n",
       "      <td>145</td>\n",
       "      <td>145</td>\n",
       "      <td>POLYGON ((37.58598 55.63117, 37.58588 55.63087...</td>\n",
       "      <td>6086</td>\n",
       "      <td>6086</td>\n",
       "      <td>64</td>\n",
       "      <td>0.000036</td>\n",
       "      <td>3.561382e-05</td>\n",
       "    </tr>\n",
       "    <tr>\n",
       "      <th>13814</th>\n",
       "      <td>145</td>\n",
       "      <td>145</td>\n",
       "      <td>POLYGON ((37.58598 55.63117, 37.58588 55.63087...</td>\n",
       "      <td>6172</td>\n",
       "      <td>6172</td>\n",
       "      <td>62</td>\n",
       "      <td>0.000036</td>\n",
       "      <td>3.562950e-05</td>\n",
       "    </tr>\n",
       "    <tr>\n",
       "      <th>13815</th>\n",
       "      <td>145</td>\n",
       "      <td>145</td>\n",
       "      <td>POLYGON ((37.58598 55.63117, 37.58588 55.63087...</td>\n",
       "      <td>6171</td>\n",
       "      <td>6171</td>\n",
       "      <td>94</td>\n",
       "      <td>0.000036</td>\n",
       "      <td>3.562496e-05</td>\n",
       "    </tr>\n",
       "    <tr>\n",
       "      <th>13816</th>\n",
       "      <td>145</td>\n",
       "      <td>145</td>\n",
       "      <td>POLYGON ((37.58598 55.63117, 37.58588 55.63087...</td>\n",
       "      <td>6170</td>\n",
       "      <td>6170</td>\n",
       "      <td>41</td>\n",
       "      <td>0.000036</td>\n",
       "      <td>3.562950e-05</td>\n",
       "    </tr>\n",
       "  </tbody>\n",
       "</table>\n",
       "<p>13817 rows × 8 columns</p>\n",
       "</div>"
      ],
      "text/plain": [
       "       index  FID_left                                           geometry  \\\n",
       "0          0         0  POLYGON ((37.68525 55.89508, 37.68891 55.89504...   \n",
       "1         67        67  POLYGON ((37.68354 55.86437, 37.68290 55.86394...   \n",
       "2          0         0  POLYGON ((37.68525 55.89508, 37.68891 55.89504...   \n",
       "3         62        62  POLYGON ((37.71971 55.88591, 37.72021 55.88566...   \n",
       "4          0         0  POLYGON ((37.68525 55.89508, 37.68891 55.89504...   \n",
       "...      ...       ...                                                ...   \n",
       "13812    145       145  POLYGON ((37.58598 55.63117, 37.58588 55.63087...   \n",
       "13813    145       145  POLYGON ((37.58598 55.63117, 37.58588 55.63087...   \n",
       "13814    145       145  POLYGON ((37.58598 55.63117, 37.58588 55.63087...   \n",
       "13815    145       145  POLYGON ((37.58598 55.63117, 37.58588 55.63087...   \n",
       "13816    145       145  POLYGON ((37.58598 55.63117, 37.58588 55.63087...   \n",
       "\n",
       "       index_right  FID_right  random_value  area_initial  \\\n",
       "0            10403      10403             9      0.000036   \n",
       "1            10403      10403             9      0.000036   \n",
       "2            10407      10407            19      0.000036   \n",
       "3            10407      10407            19      0.000036   \n",
       "4            10453      10453            53      0.000036   \n",
       "...            ...        ...           ...           ...   \n",
       "13812         6087       6087            61      0.000036   \n",
       "13813         6086       6086            64      0.000036   \n",
       "13814         6172       6172            62      0.000036   \n",
       "13815         6171       6171            94      0.000036   \n",
       "13816         6170       6170            41      0.000036   \n",
       "\n",
       "       area_of_intersection  \n",
       "0              4.368653e-08  \n",
       "1              3.582105e-05  \n",
       "2              1.089422e-06  \n",
       "3              3.477531e-05  \n",
       "4              3.587258e-05  \n",
       "...                     ...  \n",
       "13812          3.560928e-05  \n",
       "13813          3.561382e-05  \n",
       "13814          3.562950e-05  \n",
       "13815          3.562496e-05  \n",
       "13816          3.562950e-05  \n",
       "\n",
       "[13817 rows x 8 columns]"
      ]
     },
     "execution_count": 21,
     "metadata": {},
     "output_type": "execute_result"
    }
   ],
   "source": [
    "A['area_of_intersection'] = [A.iloc[i]['geometry'].intersection(grid_big_moscow.iloc[A.iloc[i]['index_right']]['geometry']).area for i in A.index]\n",
    "A"
   ]
  },
  {
   "cell_type": "code",
   "execution_count": 22,
   "metadata": {
    "ExecuteTime": {
     "end_time": "2021-04-15T21:28:56.986050Z",
     "start_time": "2021-04-15T21:28:56.972046Z"
    }
   },
   "outputs": [],
   "source": [
    "# A[\"random_value_prop\"] = A[\"random_value\"] * A['area_of_intersection'] / (\n",
    "#             A['area_initial'])\n",
    "# A"
   ]
  },
  {
   "cell_type": "code",
   "execution_count": 29,
   "metadata": {
    "ExecuteTime": {
     "end_time": "2021-04-15T21:35:13.213768Z",
     "start_time": "2021-04-15T21:35:11.822770Z"
    },
    "scrolled": true
   },
   "outputs": [
    {
     "data": {
      "text/html": [
       "<div>\n",
       "<style scoped>\n",
       "    .dataframe tbody tr th:only-of-type {\n",
       "        vertical-align: middle;\n",
       "    }\n",
       "\n",
       "    .dataframe tbody tr th {\n",
       "        vertical-align: top;\n",
       "    }\n",
       "\n",
       "    .dataframe thead th {\n",
       "        text-align: right;\n",
       "    }\n",
       "</style>\n",
       "<table border=\"1\" class=\"dataframe\">\n",
       "  <thead>\n",
       "    <tr style=\"text-align: right;\">\n",
       "      <th></th>\n",
       "      <th>index</th>\n",
       "      <th>FID_left</th>\n",
       "      <th>geometry</th>\n",
       "      <th>index_right</th>\n",
       "      <th>FID_right</th>\n",
       "      <th>random_value</th>\n",
       "      <th>area_initial</th>\n",
       "      <th>area_of_intersection</th>\n",
       "      <th>random_value_max</th>\n",
       "    </tr>\n",
       "  </thead>\n",
       "  <tbody>\n",
       "    <tr>\n",
       "      <th>0</th>\n",
       "      <td>0</td>\n",
       "      <td>0</td>\n",
       "      <td>POLYGON ((37.68525 55.89508, 37.68891 55.89504...</td>\n",
       "      <td>10403</td>\n",
       "      <td>10403</td>\n",
       "      <td>9</td>\n",
       "      <td>0.000036</td>\n",
       "      <td>4.368653e-08</td>\n",
       "      <td>0.000036</td>\n",
       "    </tr>\n",
       "    <tr>\n",
       "      <th>1</th>\n",
       "      <td>67</td>\n",
       "      <td>67</td>\n",
       "      <td>POLYGON ((37.68354 55.86437, 37.68290 55.86394...</td>\n",
       "      <td>10403</td>\n",
       "      <td>10403</td>\n",
       "      <td>9</td>\n",
       "      <td>0.000036</td>\n",
       "      <td>3.582105e-05</td>\n",
       "      <td>0.000036</td>\n",
       "    </tr>\n",
       "    <tr>\n",
       "      <th>2</th>\n",
       "      <td>0</td>\n",
       "      <td>0</td>\n",
       "      <td>POLYGON ((37.68525 55.89508, 37.68891 55.89504...</td>\n",
       "      <td>10407</td>\n",
       "      <td>10407</td>\n",
       "      <td>19</td>\n",
       "      <td>0.000036</td>\n",
       "      <td>1.089422e-06</td>\n",
       "      <td>0.000035</td>\n",
       "    </tr>\n",
       "    <tr>\n",
       "      <th>3</th>\n",
       "      <td>62</td>\n",
       "      <td>62</td>\n",
       "      <td>POLYGON ((37.71971 55.88591, 37.72021 55.88566...</td>\n",
       "      <td>10407</td>\n",
       "      <td>10407</td>\n",
       "      <td>19</td>\n",
       "      <td>0.000036</td>\n",
       "      <td>3.477531e-05</td>\n",
       "      <td>0.000035</td>\n",
       "    </tr>\n",
       "    <tr>\n",
       "      <th>4</th>\n",
       "      <td>0</td>\n",
       "      <td>0</td>\n",
       "      <td>POLYGON ((37.68525 55.89508, 37.68891 55.89504...</td>\n",
       "      <td>10453</td>\n",
       "      <td>10453</td>\n",
       "      <td>53</td>\n",
       "      <td>0.000036</td>\n",
       "      <td>3.587258e-05</td>\n",
       "      <td>0.000036</td>\n",
       "    </tr>\n",
       "    <tr>\n",
       "      <th>...</th>\n",
       "      <td>...</td>\n",
       "      <td>...</td>\n",
       "      <td>...</td>\n",
       "      <td>...</td>\n",
       "      <td>...</td>\n",
       "      <td>...</td>\n",
       "      <td>...</td>\n",
       "      <td>...</td>\n",
       "      <td>...</td>\n",
       "    </tr>\n",
       "    <tr>\n",
       "      <th>13812</th>\n",
       "      <td>145</td>\n",
       "      <td>145</td>\n",
       "      <td>POLYGON ((37.58598 55.63117, 37.58588 55.63087...</td>\n",
       "      <td>6087</td>\n",
       "      <td>6087</td>\n",
       "      <td>61</td>\n",
       "      <td>0.000036</td>\n",
       "      <td>3.560928e-05</td>\n",
       "      <td>0.000036</td>\n",
       "    </tr>\n",
       "    <tr>\n",
       "      <th>13813</th>\n",
       "      <td>145</td>\n",
       "      <td>145</td>\n",
       "      <td>POLYGON ((37.58598 55.63117, 37.58588 55.63087...</td>\n",
       "      <td>6086</td>\n",
       "      <td>6086</td>\n",
       "      <td>64</td>\n",
       "      <td>0.000036</td>\n",
       "      <td>3.561382e-05</td>\n",
       "      <td>0.000036</td>\n",
       "    </tr>\n",
       "    <tr>\n",
       "      <th>13814</th>\n",
       "      <td>145</td>\n",
       "      <td>145</td>\n",
       "      <td>POLYGON ((37.58598 55.63117, 37.58588 55.63087...</td>\n",
       "      <td>6172</td>\n",
       "      <td>6172</td>\n",
       "      <td>62</td>\n",
       "      <td>0.000036</td>\n",
       "      <td>3.562950e-05</td>\n",
       "      <td>0.000036</td>\n",
       "    </tr>\n",
       "    <tr>\n",
       "      <th>13815</th>\n",
       "      <td>145</td>\n",
       "      <td>145</td>\n",
       "      <td>POLYGON ((37.58598 55.63117, 37.58588 55.63087...</td>\n",
       "      <td>6171</td>\n",
       "      <td>6171</td>\n",
       "      <td>94</td>\n",
       "      <td>0.000036</td>\n",
       "      <td>3.562496e-05</td>\n",
       "      <td>0.000036</td>\n",
       "    </tr>\n",
       "    <tr>\n",
       "      <th>13816</th>\n",
       "      <td>145</td>\n",
       "      <td>145</td>\n",
       "      <td>POLYGON ((37.58598 55.63117, 37.58588 55.63087...</td>\n",
       "      <td>6170</td>\n",
       "      <td>6170</td>\n",
       "      <td>41</td>\n",
       "      <td>0.000036</td>\n",
       "      <td>3.562950e-05</td>\n",
       "      <td>0.000036</td>\n",
       "    </tr>\n",
       "  </tbody>\n",
       "</table>\n",
       "<p>13817 rows × 9 columns</p>\n",
       "</div>"
      ],
      "text/plain": [
       "       index  FID_left                                           geometry  \\\n",
       "0          0         0  POLYGON ((37.68525 55.89508, 37.68891 55.89504...   \n",
       "1         67        67  POLYGON ((37.68354 55.86437, 37.68290 55.86394...   \n",
       "2          0         0  POLYGON ((37.68525 55.89508, 37.68891 55.89504...   \n",
       "3         62        62  POLYGON ((37.71971 55.88591, 37.72021 55.88566...   \n",
       "4          0         0  POLYGON ((37.68525 55.89508, 37.68891 55.89504...   \n",
       "...      ...       ...                                                ...   \n",
       "13812    145       145  POLYGON ((37.58598 55.63117, 37.58588 55.63087...   \n",
       "13813    145       145  POLYGON ((37.58598 55.63117, 37.58588 55.63087...   \n",
       "13814    145       145  POLYGON ((37.58598 55.63117, 37.58588 55.63087...   \n",
       "13815    145       145  POLYGON ((37.58598 55.63117, 37.58588 55.63087...   \n",
       "13816    145       145  POLYGON ((37.58598 55.63117, 37.58588 55.63087...   \n",
       "\n",
       "       index_right  FID_right  random_value  area_initial  \\\n",
       "0            10403      10403             9      0.000036   \n",
       "1            10403      10403             9      0.000036   \n",
       "2            10407      10407            19      0.000036   \n",
       "3            10407      10407            19      0.000036   \n",
       "4            10453      10453            53      0.000036   \n",
       "...            ...        ...           ...           ...   \n",
       "13812         6087       6087            61      0.000036   \n",
       "13813         6086       6086            64      0.000036   \n",
       "13814         6172       6172            62      0.000036   \n",
       "13815         6171       6171            94      0.000036   \n",
       "13816         6170       6170            41      0.000036   \n",
       "\n",
       "       area_of_intersection  random_value_max  \n",
       "0              4.368653e-08          0.000036  \n",
       "1              3.582105e-05          0.000036  \n",
       "2              1.089422e-06          0.000035  \n",
       "3              3.477531e-05          0.000035  \n",
       "4              3.587258e-05          0.000036  \n",
       "...                     ...               ...  \n",
       "13812          3.560928e-05          0.000036  \n",
       "13813          3.561382e-05          0.000036  \n",
       "13814          3.562950e-05          0.000036  \n",
       "13815          3.562496e-05          0.000036  \n",
       "13816          3.562950e-05          0.000036  \n",
       "\n",
       "[13817 rows x 9 columns]"
      ]
     },
     "execution_count": 29,
     "metadata": {},
     "output_type": "execute_result"
    }
   ],
   "source": [
    "A['random_value_max'] = A.groupby(['FID_right'])['area_of_intersection'].transform(lambda x: max(x))\n",
    "A"
   ]
  },
  {
   "cell_type": "code",
   "execution_count": 24,
   "metadata": {
    "ExecuteTime": {
     "end_time": "2021-04-15T21:28:57.162061Z",
     "start_time": "2021-04-15T21:28:57.116051Z"
    }
   },
   "outputs": [
    {
     "data": {
      "text/html": [
       "<div>\n",
       "<style scoped>\n",
       "    .dataframe tbody tr th:only-of-type {\n",
       "        vertical-align: middle;\n",
       "    }\n",
       "\n",
       "    .dataframe tbody tr th {\n",
       "        vertical-align: top;\n",
       "    }\n",
       "\n",
       "    .dataframe thead th {\n",
       "        text-align: right;\n",
       "    }\n",
       "</style>\n",
       "<table border=\"1\" class=\"dataframe\">\n",
       "  <thead>\n",
       "    <tr style=\"text-align: right;\">\n",
       "      <th></th>\n",
       "      <th>index</th>\n",
       "      <th>FID_left</th>\n",
       "      <th>geometry</th>\n",
       "      <th>index_right</th>\n",
       "      <th>FID_right</th>\n",
       "      <th>random_value</th>\n",
       "      <th>area_initial</th>\n",
       "      <th>area_of_intersection</th>\n",
       "      <th>random_value_max</th>\n",
       "    </tr>\n",
       "  </thead>\n",
       "  <tbody>\n",
       "    <tr>\n",
       "      <th>2867</th>\n",
       "      <td>50</td>\n",
       "      <td>50</td>\n",
       "      <td>POLYGON ((37.58473 55.80868, 37.58434 55.80869...</td>\n",
       "      <td>10120</td>\n",
       "      <td>10120</td>\n",
       "      <td>37</td>\n",
       "      <td>0.000036</td>\n",
       "      <td>2.016738e-05</td>\n",
       "      <td>0.00002</td>\n",
       "    </tr>\n",
       "    <tr>\n",
       "      <th>2868</th>\n",
       "      <td>55</td>\n",
       "      <td>55</td>\n",
       "      <td>POLYGON ((37.60359 55.81799, 37.60295 55.81766...</td>\n",
       "      <td>10120</td>\n",
       "      <td>10120</td>\n",
       "      <td>37</td>\n",
       "      <td>0.000036</td>\n",
       "      <td>4.857009e-09</td>\n",
       "      <td>0.00002</td>\n",
       "    </tr>\n",
       "    <tr>\n",
       "      <th>2869</th>\n",
       "      <td>63</td>\n",
       "      <td>63</td>\n",
       "      <td>POLYGON ((37.63511 55.86137, 37.63423 55.86086...</td>\n",
       "      <td>10120</td>\n",
       "      <td>10120</td>\n",
       "      <td>37</td>\n",
       "      <td>0.000036</td>\n",
       "      <td>1.256154e-06</td>\n",
       "      <td>0.00002</td>\n",
       "    </tr>\n",
       "    <tr>\n",
       "      <th>2870</th>\n",
       "      <td>64</td>\n",
       "      <td>64</td>\n",
       "      <td>POLYGON ((37.57377 55.84848, 37.57358 55.84851...</td>\n",
       "      <td>10120</td>\n",
       "      <td>10120</td>\n",
       "      <td>37</td>\n",
       "      <td>0.000036</td>\n",
       "      <td>1.389718e-05</td>\n",
       "      <td>0.00002</td>\n",
       "    </tr>\n",
       "    <tr>\n",
       "      <th>2871</th>\n",
       "      <td>69</td>\n",
       "      <td>69</td>\n",
       "      <td>POLYGON ((37.47370 55.88530, 37.47593 55.88586...</td>\n",
       "      <td>10120</td>\n",
       "      <td>10120</td>\n",
       "      <td>37</td>\n",
       "      <td>0.000036</td>\n",
       "      <td>5.234742e-07</td>\n",
       "      <td>0.00002</td>\n",
       "    </tr>\n",
       "  </tbody>\n",
       "</table>\n",
       "</div>"
      ],
      "text/plain": [
       "      index  FID_left                                           geometry  \\\n",
       "2867     50        50  POLYGON ((37.58473 55.80868, 37.58434 55.80869...   \n",
       "2868     55        55  POLYGON ((37.60359 55.81799, 37.60295 55.81766...   \n",
       "2869     63        63  POLYGON ((37.63511 55.86137, 37.63423 55.86086...   \n",
       "2870     64        64  POLYGON ((37.57377 55.84848, 37.57358 55.84851...   \n",
       "2871     69        69  POLYGON ((37.47370 55.88530, 37.47593 55.88586...   \n",
       "\n",
       "      index_right  FID_right  random_value  area_initial  \\\n",
       "2867        10120      10120            37      0.000036   \n",
       "2868        10120      10120            37      0.000036   \n",
       "2869        10120      10120            37      0.000036   \n",
       "2870        10120      10120            37      0.000036   \n",
       "2871        10120      10120            37      0.000036   \n",
       "\n",
       "      area_of_intersection  random_value_max  \n",
       "2867          2.016738e-05           0.00002  \n",
       "2868          4.857009e-09           0.00002  \n",
       "2869          1.256154e-06           0.00002  \n",
       "2870          1.389718e-05           0.00002  \n",
       "2871          5.234742e-07           0.00002  "
      ]
     },
     "execution_count": 24,
     "metadata": {},
     "output_type": "execute_result"
    }
   ],
   "source": [
    "A.loc[A['FID_right'] == 10120]"
   ]
  },
  {
   "cell_type": "code",
   "execution_count": null,
   "metadata": {
    "ExecuteTime": {
     "end_time": "2021-04-15T20:56:45.450552Z",
     "start_time": "2021-04-15T20:56:43.789537Z"
    }
   },
   "outputs": [],
   "source": [
    "# A['random_value_1'] = A['random_value'] if A['random_value_max'] == A['area_of_intersection'] else 0\n",
    "# A['random_value_1'] = 0 \n",
    "# A['random_value_1'] = [A.iloc[i]['random_value'] \n",
    "#                        for i in A.index]\n",
    "#                        if A.iloc[i]['random_value_max'] == A.iloc[i]['area_of_intersection']]\n",
    "# A"
   ]
  },
  {
   "cell_type": "code",
   "execution_count": null,
   "metadata": {
    "ExecuteTime": {
     "end_time": "2021-04-15T20:51:09.617072Z",
     "start_time": "2021-04-15T20:51:09.594078Z"
    }
   },
   "outputs": [],
   "source": [
    "A['random_value_1'].value_counts()"
   ]
  },
  {
   "cell_type": "code",
   "execution_count": null,
   "metadata": {
    "ExecuteTime": {
     "end_time": "2021-04-15T19:48:16.210117Z",
     "start_time": "2021-04-15T19:48:16.196103Z"
    },
    "scrolled": true
   },
   "outputs": [],
   "source": [
    "# A.groupby(['FID_right']).apply(lambda x: x['random_value'] if x['intersection_area'] > 0 else 0)\n",
    "#5 if x['geometry'].area > 0.0004 else 0).tail(10)"
   ]
  },
  {
   "cell_type": "code",
   "execution_count": null,
   "metadata": {
    "ExecuteTime": {
     "end_time": "2021-04-15T19:48:16.596812Z",
     "start_time": "2021-04-15T19:48:16.541830Z"
    }
   },
   "outputs": [],
   "source": [
    "A.loc[A['FID_right'] == 4654]"
   ]
  },
  {
   "cell_type": "code",
   "execution_count": null,
   "metadata": {
    "ExecuteTime": {
     "end_time": "2021-04-15T19:48:17.456263Z",
     "start_time": "2021-04-15T19:48:17.197255Z"
    },
    "scrolled": true
   },
   "outputs": [],
   "source": [
    "A.groupby(['FID_right'])['random_value'].apply(lambda x: x.index)#x * 0 if list(x)[0] > 50 else x * 1)"
   ]
  },
  {
   "cell_type": "code",
   "execution_count": null,
   "metadata": {
    "ExecuteTime": {
     "end_time": "2021-04-15T19:48:21.242184Z",
     "start_time": "2021-04-15T19:48:21.196170Z"
    }
   },
   "outputs": [],
   "source": [
    "A.loc[A['FID_right'] == 4654]"
   ]
  },
  {
   "cell_type": "code",
   "execution_count": null,
   "metadata": {
    "ExecuteTime": {
     "end_time": "2021-04-15T19:48:22.391248Z",
     "start_time": "2021-04-15T19:48:22.372238Z"
    }
   },
   "outputs": [],
   "source": [
    "A.groupby(['index_right'])['random_value'].aggregate([min, np.median, max])"
   ]
  },
  {
   "cell_type": "code",
   "execution_count": null,
   "metadata": {
    "ExecuteTime": {
     "end_time": "2021-04-15T19:48:23.019060Z",
     "start_time": "2021-04-15T19:48:22.901048Z"
    }
   },
   "outputs": [],
   "source": [
    "A"
   ]
  },
  {
   "cell_type": "code",
   "execution_count": null,
   "metadata": {
    "ExecuteTime": {
     "end_time": "2021-04-15T21:18:29.578844Z",
     "start_time": "2021-04-15T21:18:29.460844Z"
    }
   },
   "outputs": [],
   "source": [
    "# del A['index_right']\n",
    "# del A['FID_left']\n",
    "# del A['FID_right']\n",
    "A1 = A[['geometry','random_value_prop', 'FID_left']]\n",
    "A1"
   ]
  },
  {
   "cell_type": "code",
   "execution_count": null,
   "metadata": {
    "ExecuteTime": {
     "end_time": "2021-04-15T19:48:36.495324Z",
     "start_time": "2021-04-15T19:48:27.923374Z"
    }
   },
   "outputs": [],
   "source": [
    "A.plot(edgecolor='white')"
   ]
  },
  {
   "cell_type": "code",
   "execution_count": null,
   "metadata": {
    "ExecuteTime": {
     "end_time": "2021-04-15T21:19:11.849123Z",
     "start_time": "2021-04-15T21:18:33.268179Z"
    }
   },
   "outputs": [],
   "source": [
    "dissolved_sum = A1.dissolve(by=A1['FID_left'], aggfunc='sum', sort=False)\n",
    "dissolved_sum"
   ]
  },
  {
   "cell_type": "code",
   "execution_count": null,
   "metadata": {
    "ExecuteTime": {
     "end_time": "2021-04-15T21:19:50.703101Z",
     "start_time": "2021-04-15T21:19:11.851127Z"
    }
   },
   "outputs": [],
   "source": [
    "dissolved_mean = A1.dissolve(by=A1['FID_left'], aggfunc='mean', sort=False)\n",
    "dissolved_mean"
   ]
  },
  {
   "cell_type": "code",
   "execution_count": null,
   "metadata": {
    "ExecuteTime": {
     "end_time": "2021-04-15T21:22:46.315891Z",
     "start_time": "2021-04-15T21:22:46.300888Z"
    }
   },
   "outputs": [],
   "source": [
    "def spatial_resample(agg_polygons, init_polygons, \n",
    "                                       method='mean', column='random_value', kind='mean'):\n",
    "    # Сохраним для удобства начальные площади маленьких разбиений\n",
    "    init_polygons['area_initial'] = init_polygons.geometry.area\n",
    "    # Вольём изначальное гео-разбиение в новое\n",
    "    new_resample = gpd.sjoin(agg_polygons, init_polygons, op='intersects')\n",
    "    new_resample = new_resample.reset_index()\n",
    "    # Добавим столбец с площадями разбиений, чтобы пересчитать значения column\n",
    "    new_resample['area_of_intersection'] = [\n",
    "        new_resample.iloc[i]['geometry'].intersection(\n",
    "            init_polygons.iloc[new_resample.iloc[i]['index_right']]['geometry']).area for i in new_resample.index]\n",
    "    # Пересчитаем значения столбца column в соответствии со способом kind\n",
    "    if kind == 'mean':\n",
    "        new_resample[column] = new_resample[column] * new_resample['area_of_intersection'] / (\n",
    "            new_resample['area_initial'])\n",
    "    elif kind == 'max':\n",
    "        print('asdf')\n",
    "    else:\n",
    "        print(\"Wrong kind!!!\")\n",
    "    # С помощью dissolve уберём повторяющиеся области из датафрейма с применением заданного метода\n",
    "    return new_resample[['FID_left', 'geometry', column]].dissolve(by=new_resample['FID_left'], aggfunc=method, \n",
    "                                                       sort=False)  # Чтобы быстрее считалось"
   ]
  },
  {
   "cell_type": "code",
   "execution_count": null,
   "metadata": {
    "ExecuteTime": {
     "end_time": "2021-04-15T21:24:23.528298Z",
     "start_time": "2021-04-15T21:22:48.436220Z"
    }
   },
   "outputs": [],
   "source": [
    "dissolved_mean = spatial_resample(agg_polygons=big_moscow_districts, init_polygons=grid_big_moscow, \n",
    "                                       method='mean', column='random_value', kind='mean')\n",
    "\n",
    "dissolved_sum = spatial_resample(agg_polygons=big_moscow_districts, init_polygons=grid_big_moscow, \n",
    "                                       method='sum', column='random_value', kind='mean')"
   ]
  },
  {
   "cell_type": "code",
   "execution_count": null,
   "metadata": {
    "ExecuteTime": {
     "end_time": "2021-04-15T21:24:24.182283Z",
     "start_time": "2021-04-15T21:24:23.530285Z"
    }
   },
   "outputs": [],
   "source": [
    "###\n",
    "\n",
    "fig = plt.figure(figsize=(20, 10))\n",
    "\n",
    "ax = plt.subplot(1, 2, 1)\n",
    "plt.title('Spatial resample with sum func', fontsize=20)\n",
    "dissolved_sum.plot(ax=ax, column='random_value', cmap='viridis', edgecolor='white', legend=True)\n",
    "ax.set_axis_off()\n",
    "\n",
    "ax = plt.subplot(1, 2, 2)\n",
    "plt.title('Spatial resample with mean func', fontsize=20)\n",
    "dissolved_mean.plot(ax=ax, column='random_value', cmap='viridis', edgecolor='white', legend=True)\n",
    "ax.set_axis_off()"
   ]
  },
  {
   "cell_type": "code",
   "execution_count": null,
   "metadata": {},
   "outputs": [],
   "source": []
  }
 ],
 "metadata": {
  "kernelspec": {
   "display_name": "Python [conda env:Jupyter_Notebooks-project_for_python_data_analysis_2021]",
   "language": "python",
   "name": "conda-env-Jupyter_Notebooks-project_for_python_data_analysis_2021-py"
  },
  "language_info": {
   "codemirror_mode": {
    "name": "ipython",
    "version": 3
   },
   "file_extension": ".py",
   "mimetype": "text/x-python",
   "name": "python",
   "nbconvert_exporter": "python",
   "pygments_lexer": "ipython3",
   "version": "3.9.2"
  },
  "toc": {
   "base_numbering": 1,
   "nav_menu": {},
   "number_sections": true,
   "sideBar": true,
   "skip_h1_title": false,
   "title_cell": "Table of Contents",
   "title_sidebar": "Contents",
   "toc_cell": false,
   "toc_position": {},
   "toc_section_display": true,
   "toc_window_display": false
  }
 },
 "nbformat": 4,
 "nbformat_minor": 2
}
