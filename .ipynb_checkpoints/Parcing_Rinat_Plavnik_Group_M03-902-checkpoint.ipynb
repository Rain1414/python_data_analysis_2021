{
 "cells": [
  {
   "cell_type": "code",
   "execution_count": 1,
   "id": "convertible-raising",
   "metadata": {
    "ExecuteTime": {
     "end_time": "2021-05-18T22:31:11.944221Z",
     "start_time": "2021-05-18T22:31:11.539178Z"
    }
   },
   "outputs": [],
   "source": [
    "from selenium import webdriver\n",
    "import time\n",
    "import pandas as pd\n",
    "from tqdm import tqdm\n",
    "from math import ceil\n",
    "\n",
    "#Дополнителные\n",
    "from selenium.webdriver.common.by import By\n",
    "from selenium.webdriver.support.ui import WebDriverWait\n",
    "from selenium.webdriver.support import expected_conditions as EC"
   ]
  },
  {
   "cell_type": "markdown",
   "id": "eight-terrace",
   "metadata": {},
   "source": [
    "Работал через Яндекс.Браузер(https://github.com/yandex/YandexDriver). Для этого надо скачать binary file отсюда https://github.com/yandex/YandexDriver/releases"
   ]
  },
  {
   "cell_type": "code",
   "execution_count": 2,
   "id": "found-distinction",
   "metadata": {
    "ExecuteTime": {
     "end_time": "2021-05-18T22:31:11.960193Z",
     "start_time": "2021-05-18T22:31:11.945179Z"
    }
   },
   "outputs": [],
   "source": [
    "from selenium import webdriver\n",
    "options = webdriver.ChromeOptions()\n",
    "binary_yandex_driver_file = 'D:\\Downloads\\yandexdriver-21.5.0.582-win\\yandexdriver.exe' # path to YandexDriver"
   ]
  },
  {
   "cell_type": "markdown",
   "id": "gentle-yacht",
   "metadata": {},
   "source": [
    "Спарсим названия и рейтинги фильмов, а также уникальный номер каждого фильма"
   ]
  },
  {
   "cell_type": "code",
   "execution_count": 3,
   "id": "boring-booth",
   "metadata": {
    "ExecuteTime": {
     "end_time": "2021-05-18T22:31:31.932487Z",
     "start_time": "2021-05-18T22:31:11.962186Z"
    },
    "scrolled": true
   },
   "outputs": [
    {
     "name": "stdout",
     "output_type": "stream",
     "text": [
      "Закрыл\n"
     ]
    }
   ],
   "source": [
    "# Список со всеми названиями фильмов\n",
    "all_titles = []\n",
    "# Список со всеми рейтингами фильмов\n",
    "all_ratings = []\n",
    "# Список со всеми id-шниками фильмов. Нужен для последующего парсинга отзывов\n",
    "all_films_ids = []\n",
    "try:\n",
    "    browser = webdriver.Chrome(binary_yandex_driver_file, options=options)\n",
    "    for url in ['https://www.kinopoisk.ru/lists/top250/?page=' + str(i) + '&tab=all' for i in range(1, 6)]:\n",
    "\n",
    "        browser.get(url) # Открываем страницу\n",
    "\n",
    "        titles_from_one_page = browser.find_elements_by_css_selector('p.selection-film-item-meta__name')  # browser.find_elements_by_xpath('//*[@class=\"product_card-title\"]/a')\n",
    "        ratings_from_one_page = browser.find_elements_by_css_selector('span.rating__value.rating__value_positive')#browser.find_elements_by_class_name('rating__value.rating__value_positive')\n",
    "\n",
    "        # Парсим названия и рейтинги\n",
    "        titles_from_one_page = [i.text for i in titles_from_one_page]\n",
    "        all_titles.extend(titles_from_one_page)\n",
    "        ratings_from_one_page = [i.text for i in ratings_from_one_page]\n",
    "        all_ratings.extend(ratings_from_one_page)\n",
    "        # Парсим id фильмов. Id фильма берём из ссылки на страницу фильма\n",
    "        els = browser.find_elements_by_class_name(\"selection-film-item-meta [href]\")\n",
    "        links = [el.get_attribute('href') for el in els]\n",
    "        films_ids_from_one_page = []\n",
    "        for link_ in links:\n",
    "            films_ids_from_one_page.append(link_[link_[:-1].rindex('/') + 1:-1])\n",
    "        all_films_ids.extend(films_ids_from_one_page)   \n",
    "    \n",
    "except Exception as e:\n",
    "    print('Ошибка')\n",
    "    print(e)\n",
    "    \n",
    "finally:\n",
    "\n",
    "    time.sleep(1)  # Ждем 1 секунду\n",
    "    browser.quit()  # закрываем браузер после всех манипуляций\n",
    "    print('Закрыл')"
   ]
  },
  {
   "cell_type": "markdown",
   "id": "insured-engine",
   "metadata": {},
   "source": [
    "Парсим отзывы на фильмы.\n",
    "\n",
    "Проблема в том, что на одной странице умещается не больше 200 отзывов. На первой странице с отзывами нахожу, сколько всего отзывов было на фильм, делю на 200 и получаю, сколько страниц с отзывами есть для этого фильма. Потом циклом прохожусь по всем этим страницам.\n",
    "\n",
    "Почему-то на некоторых страницах с отзывами элемент, отвечающий за число отзывов имеет другой xpath, поэтому его парсил отдельно."
   ]
  },
  {
   "cell_type": "code",
   "execution_count": 6,
   "id": "successful-precipitation",
   "metadata": {
    "ExecuteTime": {
     "end_time": "2021-05-19T08:50:18.664931Z",
     "start_time": "2021-05-19T08:19:34.722469Z"
    }
   },
   "outputs": [
    {
     "name": "stdout",
     "output_type": "stream",
     "text": [
      "Закрыл\n"
     ]
    }
   ],
   "source": [
    "# Список со списками отзывов на фильмы\n",
    "all_reviews = []\n",
    "try:\n",
    "    browser = webdriver.Chrome(binary_yandex_driver_file, options=options)\n",
    "    \n",
    "    # Внешниц цикл по всем фильмам\n",
    "    for id_ in all_films_ids[:125]:\n",
    "        all_reviews.append([])\n",
    "        # Парсим отзывы с первой страницы\n",
    "        browser.get('https://www.kinopoisk.ru/film/' + id_ + '/reviews/ord/date/status/all/perpage/200/')\n",
    "        reviews = browser.find_elements_by_css_selector('span._reachbanner_')\n",
    "        reviews = [i.text for i in reviews]\n",
    "        all_reviews[-1].extend(reviews)\n",
    "\n",
    "        # Находим на первой странице общее число отзывов\n",
    "        number_of_reviews_pages = browser.find_elements_by_xpath('//*[@id=\"block_left_padtop\"]/div/table/tbody/tr/td/table/tbody/tr[5]/td/table/tbody/tr/td/div/div[1]/div/div/div[2]')\n",
    "        if len([i.text for i in number_of_reviews_pages]) > 0:\n",
    "            number_of_reviews_pages = [i.text for i in number_of_reviews_pages][0]\n",
    "            number_of_reviews_pages = ceil(int(number_of_reviews_pages[number_of_reviews_pages[:-1].rindex(' ') + 1:]) / 200)\n",
    "        else:\n",
    "            number_of_reviews_pages = browser.find_elements_by_xpath('//*[@id=\"block_left_padtop\"]/div/table/tbody/tr/td/table/tbody/tr[5]/td/table/tbody/tr/td/div/div[1]/div/div/div')\n",
    "            number_of_reviews_pages = [i.text for i in number_of_reviews_pages][0]\n",
    "            number_of_reviews_pages = ceil(int(number_of_reviews_pages[number_of_reviews_pages[:-1].rindex(' ') + 1:]) / 200)\n",
    "        # Если отзывов больше 200, то есть страниц с отзывами больше одной, то пробегаемся циклом по всем этим страницам\n",
    "        # и парсим с них отзывы\n",
    "        if number_of_reviews_pages > 1:\n",
    "            for page_number in range(2, number_of_reviews_pages + 1):\n",
    "                browser.get('https://www.kinopoisk.ru/film/' + id_ + '/reviews/ord/date/status/all/perpage/200/page/' + str(page_number) + '/')\n",
    "                reviews = browser.find_elements_by_css_selector('span._reachbanner_')\n",
    "                reviews = [i.text for i in reviews]\n",
    "                all_reviews[-1].extend(reviews)\n",
    "except Exception as e:\n",
    "    print('Ошибка')\n",
    "    print(e)\n",
    "    \n",
    "finally:\n",
    "\n",
    "    time.sleep(1)  \n",
    "    browser.quit()  \n",
    "    print('Закрыл')"
   ]
  },
  {
   "cell_type": "markdown",
   "id": "incident-consultancy",
   "metadata": {},
   "source": [
    "При парсинге всех 250 фильмов сразу код почему-то валился, поэтому разбил пополам."
   ]
  },
  {
   "cell_type": "code",
   "execution_count": 36,
   "id": "further-paste",
   "metadata": {
    "ExecuteTime": {
     "end_time": "2021-05-19T10:03:06.328800Z",
     "start_time": "2021-05-19T09:42:44.312469Z"
    }
   },
   "outputs": [
    {
     "name": "stdout",
     "output_type": "stream",
     "text": [
      "Закрыл\n"
     ]
    }
   ],
   "source": [
    "# Список со списками отзывов на фильмы\n",
    "all_reviews_ = []\n",
    "try:\n",
    "    browser = webdriver.Chrome(binary_yandex_driver_file, options=options)\n",
    "    # Внешниц цикл по всем фильмам\n",
    "    for id_ in all_films_ids[125:]:\n",
    "        all_reviews_.append([])\n",
    "        # Парсим отзывы с первой страницы\n",
    "        browser.get('https://www.kinopoisk.ru/film/' + id_ + '/reviews/ord/date/status/all/perpage/200/')\n",
    "        reviews = browser.find_elements_by_css_selector('span._reachbanner_')\n",
    "        reviews = [i.text for i in reviews]\n",
    "        all_reviews_[-1].extend(reviews)\n",
    "        # Находим на первой странице общее число отзывов\n",
    "        number_of_reviews_pages = browser.find_elements_by_xpath('//*[@id=\"block_left_padtop\"]/div/table/tbody/tr/td/table/tbody/tr[5]/td/table/tbody/tr/td/div/div[1]/div/div/div[2]')\n",
    "        if len([i.text for i in number_of_reviews_pages]) > 0:\n",
    "            number_of_reviews_pages = [i.text for i in number_of_reviews_pages][0]\n",
    "            number_of_reviews_pages = ceil(int(number_of_reviews_pages[number_of_reviews_pages[:-1].rindex(' ') + 1:]) / 200)\n",
    "        else:\n",
    "            number_of_reviews_pages = browser.find_elements_by_xpath('//*[@id=\"block_left_padtop\"]/div/table/tbody/tr/td/table/tbody/tr[5]/td/table/tbody/tr/td/div/div[1]/div/div/div')\n",
    "            number_of_reviews_pages = [i.text for i in number_of_reviews_pages][0]\n",
    "            number_of_reviews_pages = ceil(int(number_of_reviews_pages[number_of_reviews_pages[:-1].rindex(' ') + 1:]) / 200)\n",
    "        # Если отзывов больше 200, то есть страниц с отзывами больше одной, то пробегаемся циклом по всем этим страницам\n",
    "        # и парсим с них отзывы\n",
    "        if number_of_reviews_pages > 1:\n",
    "            for page_number in range(2, number_of_reviews_pages + 1):\n",
    "                browser.get('https://www.kinopoisk.ru/film/' + id_ + '/reviews/ord/date/status/all/perpage/200/page/' + str(page_number) + '/')\n",
    "                reviews = browser.find_elements_by_css_selector('span._reachbanner_')\n",
    "                reviews = [i.text for i in reviews]\n",
    "                all_reviews_[-1].extend(reviews)\n",
    "except Exception as e:\n",
    "    print('Ошибка')\n",
    "    print(e)\n",
    "    \n",
    "finally:\n",
    "\n",
    "    time.sleep(1)  \n",
    "    browser.quit()  \n",
    "    print('Закрыл')"
   ]
  },
  {
   "cell_type": "markdown",
   "id": "sweet-anger",
   "metadata": {},
   "source": [
    "Итоговый датафрейм с названиями, рейтингами и отзывами"
   ]
  },
  {
   "cell_type": "code",
   "execution_count": 39,
   "id": "pressed-surveillance",
   "metadata": {
    "ExecuteTime": {
     "end_time": "2021-05-19T10:06:43.066382Z",
     "start_time": "2021-05-19T10:06:42.763598Z"
    }
   },
   "outputs": [
    {
     "data": {
      "text/html": [
       "<div>\n",
       "<style scoped>\n",
       "    .dataframe tbody tr th:only-of-type {\n",
       "        vertical-align: middle;\n",
       "    }\n",
       "\n",
       "    .dataframe tbody tr th {\n",
       "        vertical-align: top;\n",
       "    }\n",
       "\n",
       "    .dataframe thead th {\n",
       "        text-align: right;\n",
       "    }\n",
       "</style>\n",
       "<table border=\"1\" class=\"dataframe\">\n",
       "  <thead>\n",
       "    <tr style=\"text-align: right;\">\n",
       "      <th></th>\n",
       "      <th>Название</th>\n",
       "      <th>Рейтинг</th>\n",
       "      <th>Отзывы</th>\n",
       "    </tr>\n",
       "  </thead>\n",
       "  <tbody>\n",
       "    <tr>\n",
       "      <th>0</th>\n",
       "      <td>Побег из Шоушенка</td>\n",
       "      <td>8.9</td>\n",
       "      <td>[Свобода — одна из самых дорогих вещей в мире,...</td>\n",
       "    </tr>\n",
       "    <tr>\n",
       "      <th>1</th>\n",
       "      <td>Зеленая миля</td>\n",
       "      <td>8.9</td>\n",
       "      <td>[Не читая книгу, мне трудно судить насколько ф...</td>\n",
       "    </tr>\n",
       "    <tr>\n",
       "      <th>2</th>\n",
       "      <td>Властелин колец: Возвращение короля</td>\n",
       "      <td>8.8</td>\n",
       "      <td>[«Возвращением короля» заканчивается великая т...</td>\n",
       "    </tr>\n",
       "    <tr>\n",
       "      <th>3</th>\n",
       "      <td>Интерстеллар</td>\n",
       "      <td>8.8</td>\n",
       "      <td>[Перед нами очередное детище Кристофера Нолана...</td>\n",
       "    </tr>\n",
       "    <tr>\n",
       "      <th>4</th>\n",
       "      <td>Властелин колец: Две крепости</td>\n",
       "      <td>8.7</td>\n",
       "      <td>[Довольно тяжело писать рецензию на каждый фил...</td>\n",
       "    </tr>\n",
       "    <tr>\n",
       "      <th>...</th>\n",
       "      <td>...</td>\n",
       "      <td>...</td>\n",
       "      <td>...</td>\n",
       "    </tr>\n",
       "    <tr>\n",
       "      <th>245</th>\n",
       "      <td>Огни большого города</td>\n",
       "      <td>7.9</td>\n",
       "      <td>[Не думал, что мне так зайдёт этот фильм. Твор...</td>\n",
       "    </tr>\n",
       "    <tr>\n",
       "      <th>246</th>\n",
       "      <td>Знакомьтесь, Джо Блэк</td>\n",
       "      <td>7.9</td>\n",
       "      <td>[Первый раз смотрела его кусками - осталась в ...</td>\n",
       "    </tr>\n",
       "    <tr>\n",
       "      <th>247</th>\n",
       "      <td>За бортом</td>\n",
       "      <td>7.9</td>\n",
       "      <td>[«За бортом», или, как он назывался во времена...</td>\n",
       "    </tr>\n",
       "    <tr>\n",
       "      <th>248</th>\n",
       "      <td>Звёздные войны: Эпизод 1 – Скрытая угроза</td>\n",
       "      <td>7.9</td>\n",
       "      <td>[Сразу хочется начать с того, что вторая (тепе...</td>\n",
       "    </tr>\n",
       "    <tr>\n",
       "      <th>249</th>\n",
       "      <td>Такси</td>\n",
       "      <td>7.9</td>\n",
       "      <td>[Марсель, Франция. Эмельен - незадачливый, но ...</td>\n",
       "    </tr>\n",
       "  </tbody>\n",
       "</table>\n",
       "<p>250 rows × 3 columns</p>\n",
       "</div>"
      ],
      "text/plain": [
       "                                      Название Рейтинг  \\\n",
       "0                            Побег из Шоушенка     8.9   \n",
       "1                                 Зеленая миля     8.9   \n",
       "2          Властелин колец: Возвращение короля     8.8   \n",
       "3                                 Интерстеллар     8.8   \n",
       "4                Властелин колец: Две крепости     8.7   \n",
       "..                                         ...     ...   \n",
       "245                       Огни большого города     7.9   \n",
       "246                      Знакомьтесь, Джо Блэк     7.9   \n",
       "247                                  За бортом     7.9   \n",
       "248  Звёздные войны: Эпизод 1 – Скрытая угроза     7.9   \n",
       "249                                      Такси     7.9   \n",
       "\n",
       "                                                Отзывы  \n",
       "0    [Свобода — одна из самых дорогих вещей в мире,...  \n",
       "1    [Не читая книгу, мне трудно судить насколько ф...  \n",
       "2    [«Возвращением короля» заканчивается великая т...  \n",
       "3    [Перед нами очередное детище Кристофера Нолана...  \n",
       "4    [Довольно тяжело писать рецензию на каждый фил...  \n",
       "..                                                 ...  \n",
       "245  [Не думал, что мне так зайдёт этот фильм. Твор...  \n",
       "246  [Первый раз смотрела его кусками - осталась в ...  \n",
       "247  [«За бортом», или, как он назывался во времена...  \n",
       "248  [Сразу хочется начать с того, что вторая (тепе...  \n",
       "249  [Марсель, Франция. Эмельен - незадачливый, но ...  \n",
       "\n",
       "[250 rows x 3 columns]"
      ]
     },
     "execution_count": 39,
     "metadata": {},
     "output_type": "execute_result"
    }
   ],
   "source": [
    "df = pd.DataFrame({'Название': all_titles, 'Рейтинг': all_ratings, 'Отзывы': all_reviews + all_reviews_})\n",
    "df"
   ]
  },
  {
   "cell_type": "code",
   "execution_count": null,
   "id": "amber-address",
   "metadata": {},
   "outputs": [],
   "source": []
  }
 ],
 "metadata": {
  "kernelspec": {
   "display_name": "Python [conda env:Jupyter_Notebooks-project_for_python_data_analysis_2021]",
   "language": "python",
   "name": "conda-env-Jupyter_Notebooks-project_for_python_data_analysis_2021-py"
  },
  "language_info": {
   "codemirror_mode": {
    "name": "ipython",
    "version": 3
   },
   "file_extension": ".py",
   "mimetype": "text/x-python",
   "name": "python",
   "nbconvert_exporter": "python",
   "pygments_lexer": "ipython3",
   "version": "3.9.2"
  },
  "toc": {
   "base_numbering": 1,
   "nav_menu": {},
   "number_sections": true,
   "sideBar": true,
   "skip_h1_title": false,
   "title_cell": "Table of Contents",
   "title_sidebar": "Contents",
   "toc_cell": false,
   "toc_position": {},
   "toc_section_display": true,
   "toc_window_display": false
  }
 },
 "nbformat": 4,
 "nbformat_minor": 5
}
