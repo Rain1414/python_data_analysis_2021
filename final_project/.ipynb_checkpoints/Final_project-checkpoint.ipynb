{
 "cells": [
  {
   "cell_type": "markdown",
   "metadata": {},
   "source": [
    "## Обработка комментариев из Твиттера и классификация их на токсичные/нетоксичные."
   ]
  },
  {
   "cell_type": "code",
   "execution_count": 1,
   "metadata": {
    "ExecuteTime": {
     "end_time": "2021-05-19T14:21:29.010627Z",
     "start_time": "2021-05-19T14:21:27.861963Z"
    }
   },
   "outputs": [],
   "source": [
    "import numpy as np\n",
    "import matplotlib.pyplot as plt\n",
    "%matplotlib inline\n",
    "import pandas as pd\n",
    "import math\n",
    "\n",
    "from sklearn.model_selection import train_test_split"
   ]
  },
  {
   "cell_type": "markdown",
   "metadata": {},
   "source": [
    "Данные взял из заданий курса по Машинному обучению. Это набор комментариев с маркером should_ban: 0 - если коммент нетоксичный; 1 - если токсичный (значит надо забанить за оскорбления)."
   ]
  },
  {
   "cell_type": "code",
   "execution_count": 2,
   "metadata": {
    "ExecuteTime": {
     "end_time": "2021-05-19T14:21:29.042627Z",
     "start_time": "2021-05-19T14:21:29.011613Z"
    }
   },
   "outputs": [],
   "source": [
    "data = pd.read_csv(\"comments.tsv\", sep='\\t')\n",
    "\n",
    "texts = data['comment_text'].values\n",
    "target = data['should_ban'].values"
   ]
  },
  {
   "cell_type": "markdown",
   "metadata": {},
   "source": [
    "Пример данных"
   ]
  },
  {
   "cell_type": "code",
   "execution_count": 3,
   "metadata": {
    "ExecuteTime": {
     "end_time": "2021-05-19T14:21:29.058615Z",
     "start_time": "2021-05-19T14:21:29.044614Z"
    },
    "scrolled": true
   },
   "outputs": [
    {
     "data": {
      "text/html": [
       "<div>\n",
       "<style scoped>\n",
       "    .dataframe tbody tr th:only-of-type {\n",
       "        vertical-align: middle;\n",
       "    }\n",
       "\n",
       "    .dataframe tbody tr th {\n",
       "        vertical-align: top;\n",
       "    }\n",
       "\n",
       "    .dataframe thead th {\n",
       "        text-align: right;\n",
       "    }\n",
       "</style>\n",
       "<table border=\"1\" class=\"dataframe\">\n",
       "  <thead>\n",
       "    <tr style=\"text-align: right;\">\n",
       "      <th></th>\n",
       "      <th>should_ban</th>\n",
       "      <th>comment_text</th>\n",
       "    </tr>\n",
       "  </thead>\n",
       "  <tbody>\n",
       "    <tr>\n",
       "      <th>50</th>\n",
       "      <td>0</td>\n",
       "      <td>\"Those who're in advantageous positions are th...</td>\n",
       "    </tr>\n",
       "    <tr>\n",
       "      <th>250</th>\n",
       "      <td>1</td>\n",
       "      <td>Fartsalot56 says f**k you motherclucker!!</td>\n",
       "    </tr>\n",
       "    <tr>\n",
       "      <th>450</th>\n",
       "      <td>1</td>\n",
       "      <td>Are you a fool? \\r\\n\\r\\nI am sorry, but you se...</td>\n",
       "    </tr>\n",
       "    <tr>\n",
       "      <th>650</th>\n",
       "      <td>1</td>\n",
       "      <td>I AM NOT A VANDAL!!!!!!!!!!!!!!!!!!!!!!!!!!!!!!</td>\n",
       "    </tr>\n",
       "    <tr>\n",
       "      <th>850</th>\n",
       "      <td>0</td>\n",
       "      <td>Citing sources\\r\\n\\r\\nCheck out the Wikipedia:...</td>\n",
       "    </tr>\n",
       "  </tbody>\n",
       "</table>\n",
       "</div>"
      ],
      "text/plain": [
       "     should_ban                                       comment_text\n",
       "50            0  \"Those who're in advantageous positions are th...\n",
       "250           1          Fartsalot56 says f**k you motherclucker!!\n",
       "450           1  Are you a fool? \\r\\n\\r\\nI am sorry, but you se...\n",
       "650           1    I AM NOT A VANDAL!!!!!!!!!!!!!!!!!!!!!!!!!!!!!!\n",
       "850           0  Citing sources\\r\\n\\r\\nCheck out the Wikipedia:..."
      ]
     },
     "execution_count": 3,
     "metadata": {},
     "output_type": "execute_result"
    }
   ],
   "source": [
    "data[50::200]"
   ]
  },
  {
   "cell_type": "markdown",
   "metadata": {},
   "source": [
    "Разделим данные на тренировочную и тестовую выборки"
   ]
  },
  {
   "cell_type": "code",
   "execution_count": 4,
   "metadata": {
    "ExecuteTime": {
     "end_time": "2021-05-19T14:21:29.074615Z",
     "start_time": "2021-05-19T14:21:29.059614Z"
    }
   },
   "outputs": [],
   "source": [
    "texts_train, texts_test, y_train, y_test = train_test_split(texts, target, test_size=0.5, random_state=42)"
   ]
  },
  {
   "cell_type": "markdown",
   "metadata": {},
   "source": [
    "### Предобработка данных"
   ]
  },
  {
   "cell_type": "markdown",
   "metadata": {},
   "source": [
    "Разобьём все твиты на токены, используем для этого TweetTokenizer. Уберём прописные буквы (так как они не несут полезной информации, но токены \"My\" и \"my\" считаются разными). "
   ]
  },
  {
   "cell_type": "code",
   "execution_count": 5,
   "metadata": {
    "ExecuteTime": {
     "end_time": "2021-05-19T14:21:29.344627Z",
     "start_time": "2021-05-19T14:21:29.076614Z"
    },
    "scrolled": true
   },
   "outputs": [
    {
     "name": "stdout",
     "output_type": "stream",
     "text": [
      "До токенизации: How to be a grown-up at work: replace \"I don't want to do that\" with \"Ok, great!\". @Man\n",
      "После токенизации: how to be a grown-up at work : replace \" i don't want to do that \" with \" ok , great ! \" .\n"
     ]
    }
   ],
   "source": [
    "from nltk.tokenize import TweetTokenizer\n",
    "tokenizer = TweetTokenizer(strip_handles=True)  # \"strip_handles=True\" уберёт ссылки на никнеймы - это слова, начинающиеся\n",
    "                                                # с символа @. \n",
    "                                                # Никнеймы не несут полезной информации при классификации токсичных твитов.\n",
    "\n",
    "# Уберём прописные буквы\n",
    "preprocess = lambda text: ' '.join(tokenizer.tokenize(text.lower()))\n",
    "\n",
    "text = 'How to be a grown-up at work: replace \"I don\\'t want to do that\" with \"Ok, great!\". @Man'\n",
    "print(\"До токенизации:\", text,)\n",
    "print(\"После токенизации:\", preprocess(text),)"
   ]
  },
  {
   "cell_type": "markdown",
   "metadata": {},
   "source": [
    "Применим наш токейназер к тренировочной и тестовой выборке."
   ]
  },
  {
   "cell_type": "code",
   "execution_count": 6,
   "metadata": {
    "ExecuteTime": {
     "end_time": "2021-05-19T14:21:29.646611Z",
     "start_time": "2021-05-19T14:21:29.346612Z"
    }
   },
   "outputs": [],
   "source": [
    "texts_train = np.array([preprocess(s) for s in texts_train])\n",
    "texts_test = np.array([preprocess(s) for s in texts_test])"
   ]
  },
  {
   "cell_type": "markdown",
   "metadata": {},
   "source": [
    "Проверим, что всё работает правильно"
   ]
  },
  {
   "cell_type": "code",
   "execution_count": 7,
   "metadata": {
    "ExecuteTime": {
     "end_time": "2021-05-19T14:21:29.662611Z",
     "start_time": "2021-05-19T14:21:29.648611Z"
    }
   },
   "outputs": [],
   "source": [
    "assert texts_train[5] ==  'who cares anymore . they attack with impunity .'\n",
    "assert texts_test[89] == 'hey todds ! quick q ? why are you so gay'\n",
    "assert len(texts_test) == len(y_test)"
   ]
  },
  {
   "cell_type": "markdown",
   "metadata": {},
   "source": [
    "### Решим задачу с помощью метода bag of words"
   ]
  },
  {
   "cell_type": "markdown",
   "metadata": {},
   "source": [
    "Будем использовать k самых часто встречающихся токенов из тренировочной выборки. "
   ]
  },
  {
   "cell_type": "code",
   "execution_count": 8,
   "metadata": {
    "ExecuteTime": {
     "end_time": "2021-05-19T14:21:32.034619Z",
     "start_time": "2021-05-19T14:21:29.665613Z"
    }
   },
   "outputs": [],
   "source": [
    "k = min(10000, len(set(' '.join(texts_train).split())))\n",
    "\n",
    "texts_train1 = ' '.join(texts_train).split()\n",
    "texts_train_uniq, texts_train_uniq_count = np.unique(texts_train1, return_counts=True)\n",
    "texts_train_voc = np.zeros_like(texts_train_uniq)\n",
    "texts_train_voc_count = np.zeros_like(texts_train_uniq_count)\n",
    "for i in range(len(texts_train_voc)):\n",
    "    texts_train_voc[i] = texts_train_uniq[np.argmax(texts_train_uniq_count)]\n",
    "    texts_train_voc_count[i] = texts_train_uniq_count.max()\n",
    "    texts_train_uniq = np.delete(texts_train_uniq, np.argmax(texts_train_uniq_count))\n",
    "    texts_train_uniq_count = np.delete(texts_train_uniq_count, np.argmax(texts_train_uniq_count))\n"
   ]
  },
  {
   "cell_type": "code",
   "execution_count": 9,
   "metadata": {
    "ExecuteTime": {
     "end_time": "2021-05-19T14:21:32.050605Z",
     "start_time": "2021-05-19T14:21:32.036603Z"
    }
   },
   "outputs": [
    {
     "name": "stdout",
     "output_type": "stream",
     "text": [
      "Самые часто встречаемые токены\n",
      "['.', ',', 'you', 'the', '\"', 'a', 'to', 'i', 'and', '!']\n",
      "Сколько раз встречаются самые частые слова\n",
      "[1513 1389 1342 1219 1057  860  823  727  711  703]\n"
     ]
    }
   ],
   "source": [
    "print(\"Самые часто встречаемые токены\")\n",
    "bow_vocabulary = texts_train_voc[:k]\n",
    "bow_vocabulary = bow_vocabulary.tolist()\n",
    "print(bow_vocabulary[:10])\n",
    "print(\"Сколько раз встречаются самые частые слова\")\n",
    "print(texts_train_voc_count[:10])"
   ]
  },
  {
   "cell_type": "code",
   "execution_count": 10,
   "metadata": {
    "ExecuteTime": {
     "end_time": "2021-05-19T14:21:32.065604Z",
     "start_time": "2021-05-19T14:21:32.052608Z"
    }
   },
   "outputs": [],
   "source": [
    "def text_to_bow(text):\n",
    "    \"\"\" Функция для преобразования предложения в bag of words\"\"\"   \n",
    "    text = text.split()\n",
    "    text_counts = np.zeros(len(bow_vocabulary))\n",
    "    for word in text:\n",
    "        for i in range(len(bow_vocabulary)):\n",
    "            if word == bow_vocabulary[i]:\n",
    "                text_counts[i] += 1\n",
    "                break\n",
    "\n",
    "    return np.array(text_counts, 'float32')"
   ]
  },
  {
   "cell_type": "markdown",
   "metadata": {},
   "source": [
    "Преобразуем тренировочную выборку в bag of words"
   ]
  },
  {
   "cell_type": "code",
   "execution_count": 11,
   "metadata": {
    "ExecuteTime": {
     "end_time": "2021-05-19T14:21:35.809639Z",
     "start_time": "2021-05-19T14:21:32.067605Z"
    },
    "scrolled": true
   },
   "outputs": [],
   "source": [
    "X_train_bow = np.stack(list(map(text_to_bow, texts_train)))\n",
    "X_test_bow = np.stack(list(map(text_to_bow, texts_test)))"
   ]
  },
  {
   "cell_type": "markdown",
   "metadata": {},
   "source": [
    "Проверим, что всё сделано правильно"
   ]
  },
  {
   "cell_type": "code",
   "execution_count": 12,
   "metadata": {
    "ExecuteTime": {
     "end_time": "2021-05-19T14:21:35.840609Z",
     "start_time": "2021-05-19T14:21:35.810591Z"
    }
   },
   "outputs": [],
   "source": [
    "k_max = len(set(' '.join(texts_train).split()))\n",
    "assert X_train_bow.shape == (len(texts_train), min(k, k_max))\n",
    "assert X_test_bow.shape == (len(texts_test), min(k, k_max))\n",
    "assert np.all(X_train_bow[5:10].sum(-1) == np.array([len(s.split()) for s in  texts_train[5:10]]))\n",
    "assert len(bow_vocabulary) <= min(k, k_max)\n",
    "assert X_train_bow[6, bow_vocabulary.index('.')] == texts_train[6].split().count('.')"
   ]
  },
  {
   "cell_type": "markdown",
   "metadata": {},
   "source": [
    "Отнормируем данные и применим логистическую регрессию"
   ]
  },
  {
   "cell_type": "code",
   "execution_count": 13,
   "metadata": {
    "ExecuteTime": {
     "end_time": "2021-05-19T14:21:35.935593Z",
     "start_time": "2021-05-19T14:21:35.842593Z"
    }
   },
   "outputs": [],
   "source": [
    "# Скейлим данные\n",
    "from sklearn.preprocessing import StandardScaler\n",
    "\n",
    "scaler = StandardScaler()\n",
    "scaler.fit(X_train_bow)\n",
    "X_train_bow_scaled = scaler.transform(X_train_bow)\n",
    "X_test_bow_scaled = scaler.transform(X_test_bow)"
   ]
  },
  {
   "cell_type": "code",
   "execution_count": 14,
   "metadata": {
    "ExecuteTime": {
     "end_time": "2021-05-19T14:21:39.316001Z",
     "start_time": "2021-05-19T14:21:35.936591Z"
    },
    "scrolled": true
   },
   "outputs": [],
   "source": [
    "from sklearn.linear_model import LogisticRegression\n",
    "bow_model = LogisticRegression(n_jobs=-1).fit(X_train_bow_scaled, y_train)"
   ]
  },
  {
   "cell_type": "markdown",
   "metadata": {},
   "source": [
    "Посмотрим, что получилось. Построим ROC кривую"
   ]
  },
  {
   "cell_type": "code",
   "execution_count": 15,
   "metadata": {
    "ExecuteTime": {
     "end_time": "2021-05-19T14:21:39.665952Z",
     "start_time": "2021-05-19T14:21:39.321955Z"
    },
    "scrolled": true
   },
   "outputs": [
    {
     "data": {
      "image/png": "[encoded data removed]",
      "text/plain": [
       "<Figure size 432x288 with 1 Axes>"
      ]
     },
     "metadata": {
      "needs_background": "light"
     },
     "output_type": "display_data"
    }
   ],
   "source": [
    "from sklearn.metrics import roc_auc_score, roc_curve\n",
    "\n",
    "for name, X, y, model in [\n",
    "    ('train', X_train_bow_scaled, y_train, bow_model),\n",
    "    ('test ', X_test_bow_scaled, y_test, bow_model)\n",
    "]:\n",
    "    proba = model.predict_proba(X)[:, 1]\n",
    "    auc = roc_auc_score(y, proba)\n",
    "    plt.plot(*roc_curve(y, proba)[:2], label='%s AUC=%.4f' % (name, auc))\n",
    "\n",
    "plt.plot([0, 1], [0, 1], '--', color='black',)\n",
    "plt.legend(fontsize='large')\n",
    "plt.grid()"
   ]
  },
  {
   "cell_type": "markdown",
   "metadata": {},
   "source": [
    "Попробуем поварьировать k"
   ]
  },
  {
   "cell_type": "code",
   "execution_count": null,
   "metadata": {
    "ExecuteTime": {
     "end_time": "2021-05-19T14:22:53.000253Z",
     "start_time": "2021-05-19T14:21:39.667945Z"
    }
   },
   "outputs": [],
   "source": [
    "for k in np.hstack((np.array([10, 100, 1000, 2000, min(10000, len(set(' '.join(texts_train).split())))]))):\n",
    "    del bow_vocabulary\n",
    "    bow_vocabulary = texts_train_voc[:k]\n",
    "    X_train_bow = np.stack(list(map(text_to_bow, texts_train)))\n",
    "    X_test_bow = np.stack(list(map(text_to_bow, texts_test)))\n",
    "    scaler.fit(X_train_bow)\n",
    "    X_train_bow_scaled = scaler.transform(X_train_bow)\n",
    "    X_test_bow_scaled = scaler.transform(X_test_bow)\n",
    "    bow_model.fit(X_train_bow_scaled, y_train)\n",
    "    for number_of_words, X, y, model in [(k, X_train_bow_scaled, y_train, bow_model)]:\n",
    "            proba = model.predict_proba(X)[:, 1]\n",
    "            auc = roc_auc_score(y, proba)\n",
    "            plt.plot(*roc_curve(y, proba)[:2], label='k=%d AUC=%.4f' % (k, auc))\n",
    "            plt.title('ROC curve for train')\n",
    "plt.plot([0, 1], [0, 1], '--', color='black',)\n",
    "plt.legend(fontsize='large')\n",
    "plt.grid()"
   ]
  },
  {
   "cell_type": "code",
   "execution_count": null,
   "metadata": {
    "ExecuteTime": {
     "end_time": "2021-05-19T14:24:04.696511Z",
     "start_time": "2021-05-19T14:22:53.002238Z"
    }
   },
   "outputs": [],
   "source": [
    "for k in np.hstack((np.array([10, 100, 1000, 2000, min(10000, len(set(' '.join(texts_train).split())))]))):\n",
    "    del bow_vocabulary\n",
    "    bow_vocabulary = texts_train_voc[:k]\n",
    "    X_train_bow = np.stack(list(map(text_to_bow, texts_train)))\n",
    "    X_test_bow = np.stack(list(map(text_to_bow, texts_test)))\n",
    "    scaler.fit(X_train_bow)\n",
    "    X_train_bow_scaled = scaler.transform(X_train_bow)\n",
    "    X_test_bow_scaled = scaler.transform(X_test_bow)\n",
    "    bow_model.fit(X_train_bow_scaled, y_train)\n",
    "    for number_of_words, X, y, model in [(k, X_test_bow_scaled, y_test, bow_model)]:\n",
    "            proba = model.predict_proba(X)[:, 1]\n",
    "            auc = roc_auc_score(y, proba)\n",
    "            plt.plot(*roc_curve(y, proba)[:2], label='k=%d AUC=%.4f' % (k, auc))\n",
    "            plt.title('ROC curve for test')\n",
    "            \n",
    "\n",
    "plt.plot([0, 1], [0, 1], '--', color='black',)\n",
    "plt.legend(fontsize='large')\n",
    "plt.grid()"
   ]
  },
  {
   "cell_type": "markdown",
   "metadata": {
    "ExecuteTime": {
     "end_time": "2021-05-19T14:20:37.511303Z",
     "start_time": "2021-05-19T14:20:37.502286Z"
    }
   },
   "source": [
    "Использование всех токенов даёт наилучший результат"
   ]
  },
  {
   "cell_type": "markdown",
   "metadata": {},
   "source": [
    "### Применим метод TF-IDF, чтобы не учитывать местоимения и артикли, которые не несут пользы при классификации"
   ]
  },
  {
   "cell_type": "code",
   "execution_count": null,
   "metadata": {
    "ExecuteTime": {
     "end_time": "2021-05-19T14:24:04.712476Z",
     "start_time": "2021-05-19T14:24:04.698484Z"
    },
    "scrolled": true
   },
   "outputs": [],
   "source": [
    "def computeReviewTFDict(review, bow_vocabulary):\n",
    "    \"\"\"\n",
    "    Функция возвращает словарь, в котором из предложения review создаётся TF словарь,\n",
    "    в котором ключи - это уникальные слова из review, а значения - TF, соответствующее слову по словарю bow_vocabulary.\n",
    "    \"\"\"\n",
    "    # Считаем для каждого слова его встречаемость с помощью bow_vocabulary\n",
    "    reviewTFDict = dict.fromkeys(bow_vocabulary, 0)\n",
    "    for word in review:\n",
    "        if word in reviewTFDict:\n",
    "            reviewTFDict[word] += 1\n",
    "        else:\n",
    "            reviewTFDict[word] = 1\n",
    "    for word in reviewTFDict:\n",
    "        reviewTFDict[word] = reviewTFDict[word] / len(review)\n",
    "    return reviewTFDict"
   ]
  },
  {
   "cell_type": "markdown",
   "metadata": {},
   "source": [
    "Рассчитаем TF для тренировочной и тестовой выборок"
   ]
  },
  {
   "cell_type": "code",
   "execution_count": null,
   "metadata": {
    "ExecuteTime": {
     "end_time": "2021-05-19T14:24:10.246951Z",
     "start_time": "2021-05-19T14:24:04.714476Z"
    }
   },
   "outputs": [],
   "source": [
    "texts_train_split = np.array([s.split() for s in texts_train])\n",
    "texts_test_split = np.array([s.split() for s in texts_test])\n",
    "\n",
    "TFDict_train = np.array([computeReviewTFDict(s, bow_vocabulary) for s in texts_train_split])\n",
    "TFDict_test = np.array([computeReviewTFDict(s, bow_vocabulary) for s in texts_test_split])"
   ]
  },
  {
   "cell_type": "code",
   "execution_count": null,
   "metadata": {
    "ExecuteTime": {
     "end_time": "2021-05-19T14:24:10.261951Z",
     "start_time": "2021-05-19T14:24:10.248950Z"
    }
   },
   "outputs": [],
   "source": [
    "def computeidfDict(tfDict, bow_vocabulary):\n",
    "    \"\"\"\n",
    "    Функция возвращает словарь, в котором ключи - уникальные слова из предложенного датасета tfDict,\n",
    "    а значения - соответствующие idf.\n",
    "    \"\"\"\n",
    "    idfDict = dict.fromkeys(bow_vocabulary, 0)\n",
    "    for review in tfDict:\n",
    "        for word in idfDict:\n",
    "            if word in review:\n",
    "                idfDict[word] += 1\n",
    "    for word in idfDict:\n",
    "        if idfDict[word] != 0:\n",
    "            idfDict[word] = math.log(len(tfDict) / idfDict[word])\n",
    "    return idfDict"
   ]
  },
  {
   "cell_type": "markdown",
   "metadata": {},
   "source": [
    "Применим к тестовой и тренировочной выборке"
   ]
  },
  {
   "cell_type": "code",
   "execution_count": null,
   "metadata": {
    "ExecuteTime": {
     "end_time": "2021-05-19T14:24:16.258046Z",
     "start_time": "2021-05-19T14:24:10.264951Z"
    }
   },
   "outputs": [],
   "source": [
    "idfDict_train = computeidfDict(texts_train_split, bow_vocabulary)\n",
    "idfDict_test = computeidfDict(texts_test_split, bow_vocabulary)"
   ]
  },
  {
   "cell_type": "code",
   "execution_count": null,
   "metadata": {
    "ExecuteTime": {
     "end_time": "2021-05-19T14:24:16.274025Z",
     "start_time": "2021-05-19T14:24:16.259000Z"
    }
   },
   "outputs": [],
   "source": [
    "def computeReviewTFIDFDict(reviewTFDict, idfDict):\n",
    "    \"\"\"\n",
    "    Функция возвращает словарь с ключами - уникальными словами из reviewTFDict\n",
    "    и значениями - соответствующими TF-IDF для каждого слова.\n",
    "    \"\"\"\n",
    "    reviewTFIDFDict = dict.fromkeys(bow_vocabulary, 0)\n",
    "    #For each word in the review, we multiply its tf and its idf.\n",
    "    for word in reviewTFDict:\n",
    "        if word in idfDict:\n",
    "            reviewTFIDFDict[word] = reviewTFDict[word] * idfDict[word]\n",
    "    return reviewTFIDFDict"
   ]
  },
  {
   "cell_type": "markdown",
   "metadata": {
    "ExecuteTime": {
     "end_time": "2021-05-19T13:53:54.142210Z",
     "start_time": "2021-05-19T13:53:54.113226Z"
    }
   },
   "source": [
    "Получим TF-IDF для каждого слова"
   ]
  },
  {
   "cell_type": "code",
   "execution_count": null,
   "metadata": {
    "ExecuteTime": {
     "end_time": "2021-05-19T14:24:21.988488Z",
     "start_time": "2021-05-19T14:24:16.277015Z"
    }
   },
   "outputs": [],
   "source": [
    "tfidfDict_train = [computeReviewTFIDFDict(review, idfDict_train) for review in TFDict_train]\n",
    "tfidfDict_test = [computeReviewTFIDFDict(review, idfDict_test) for review in TFDict_test]"
   ]
  },
  {
   "cell_type": "code",
   "execution_count": null,
   "metadata": {
    "ExecuteTime": {
     "end_time": "2021-05-19T14:24:23.866277Z",
     "start_time": "2021-05-19T14:24:21.990489Z"
    }
   },
   "outputs": [],
   "source": [
    "# Получим словарь со словами из тренировочной выборки\n",
    "wordDict = sorted(idfDict_train.keys())\n",
    "\n",
    "def computeTFIDFVector(review, wordDict):\n",
    "    \"\"\"\n",
    "    Функция рассчитывает вектор длиной такой, сколько слов в wordDict,\n",
    "    значение каждой координаты - TF-IDF соответствующего слова из review.\n",
    "    \"\"\"\n",
    "    tfidfVector = [0.0] * len(wordDict)\n",
    "    for i, word in enumerate(wordDict):\n",
    "        if word in review:\n",
    "            tfidfVector[i] = review[word]\n",
    "    return tfidfVector\n",
    "\n",
    "# Получим вектора для тренировочной и тестовой выборок.\n",
    "tfidfVector_train = [computeTFIDFVector(review, wordDict) for review in tfidfDict_train]\n",
    "tfidfVector_test = [computeTFIDFVector(review, wordDict) for review in tfidfDict_test]"
   ]
  },
  {
   "cell_type": "markdown",
   "metadata": {},
   "source": [
    "Отнормируем вектора и применим логистическую регрессию к новым данным"
   ]
  },
  {
   "cell_type": "code",
   "execution_count": null,
   "metadata": {
    "ExecuteTime": {
     "end_time": "2021-05-19T14:24:24.770294Z",
     "start_time": "2021-05-19T14:24:23.868278Z"
    }
   },
   "outputs": [],
   "source": [
    "from sklearn.preprocessing import StandardScaler\n",
    "scaler = StandardScaler()\n",
    "scaler.fit(tfidfVector_train)\n",
    "tfidfVector_train_scaled = scaler.transform(tfidfVector_train)\n",
    "tfidfVector_test_scaled = scaler.transform(tfidfVector_test)"
   ]
  },
  {
   "cell_type": "code",
   "execution_count": null,
   "metadata": {
    "ExecuteTime": {
     "end_time": "2021-05-19T14:24:27.060097Z",
     "start_time": "2021-05-19T14:24:24.772274Z"
    }
   },
   "outputs": [],
   "source": [
    "tfidf_model = LogisticRegression(n_jobs=-1)\n",
    "tfidf_model.fit(tfidfVector_train_scaled, y_train)\n",
    "\n",
    "for name, X, y, model in [\n",
    "    ('train', tfidfVector_train_scaled, y_train, tfidf_model),\n",
    "    ('test ', tfidfVector_test_scaled, y_test, tfidf_model)\n",
    "]:\n",
    "    proba = model.predict_proba(X)[:, 1]\n",
    "    auc = roc_auc_score(y, proba)\n",
    "    plt.plot(*roc_curve(y, proba)[:2], label='%s AUC=%.4f' % (name, auc))\n",
    "\n",
    "plt.plot([0, 1], [0, 1], '--', color='black',)\n",
    "plt.legend(fontsize='large')\n",
    "plt.grid()"
   ]
  },
  {
   "cell_type": "markdown",
   "metadata": {
    "ExecuteTime": {
     "end_time": "2021-05-19T13:05:01.547742Z",
     "start_time": "2021-05-19T13:05:01.533753Z"
    }
   },
   "source": [
    "Результат почти не изменился, хотя точность должна была по идее повыситься. Так произошло, потому что обычно в toxic комментах пишут не особо соблюдая нормы языка и грамматики (в том числе и правило артиклей), поэтому при классификации \"добрых\" комментов возможно модель обращает внимание на артикли в том числе. "
   ]
  }
 ],
 "metadata": {
  "kernelspec": {
   "display_name": "Python 3",
   "language": "python",
   "name": "python3"
  },
  "language_info": {
   "codemirror_mode": {
    "name": "ipython",
    "version": 3
   },
   "file_extension": ".py",
   "mimetype": "text/x-python",
   "name": "python",
   "nbconvert_exporter": "python",
   "pygments_lexer": "ipython3",
   "version": "3.7.6"
  },
  "toc": {
   "base_numbering": 1,
   "nav_menu": {},
   "number_sections": true,
   "sideBar": true,
   "skip_h1_title": false,
   "title_cell": "Table of Contents",
   "title_sidebar": "Contents",
   "toc_cell": false,
   "toc_position": {},
   "toc_section_display": true,
   "toc_window_display": false
  }
 },
 "nbformat": 4,
 "nbformat_minor": 2
}
